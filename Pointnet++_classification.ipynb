{
  "cells": [
    {
      "cell_type": "markdown",
      "metadata": {
        "id": "view-in-github",
        "colab_type": "text"
      },
      "source": [
        "<a href=\"https://colab.research.google.com/github/Abudhagir/3D-Vision/blob/main/Pointnet%2B%2B_classification.ipynb\" target=\"_parent\"><img src=\"https://colab.research.google.com/assets/colab-badge.svg\" alt=\"Open In Colab\"/></a>"
      ]
    },
    {
      "cell_type": "markdown",
      "metadata": {
        "id": "5x2iRjH7pjpR"
      },
      "source": [
        "# **PointNet++ Demo**\n",
        "This code is the implementation of [PointNet++: Deep Hierarchical Feature Learning on Point Sets in a Metric Space](https://proceedings.neurips.cc/paper/2017/file/d8bf84be3800d12f74d8b05e9b89836f-Paper.pdf). We demonstrate the applications of point cloud classification\n",
        "."
      ]
    },
    {
      "cell_type": "code",
      "execution_count": 1,
      "metadata": {
        "id": "6KkyyJkTpS-_"
      },
      "outputs": [],
      "source": [
        "import numpy as np\n",
        "import math\n",
        "import random\n",
        "import os\n",
        "import torch\n",
        "from glob import glob\n",
        "import scipy.spatial.distance\n",
        "from torch.utils.data import Dataset, DataLoader\n",
        "from torchvision import transforms, utils\n",
        "\n",
        "\n",
        "import plotly.graph_objects as go"
      ]
    },
    {
      "cell_type": "code",
      "execution_count": 2,
      "metadata": {
        "colab": {
          "base_uri": "https://localhost:8080/"
        },
        "id": "DxpDKm6dp3Hu",
        "outputId": "a3a3c7f5-1880-4c46-aedf-3aa012741ee8"
      },
      "outputs": [
        {
          "output_type": "stream",
          "name": "stdout",
          "text": [
            "Looking in indexes: https://pypi.org/simple, https://us-python.pkg.dev/colab-wheels/public/simple/\n",
            "Collecting path.py\n",
            "  Downloading path.py-12.5.0-py3-none-any.whl (2.3 kB)\n",
            "Collecting path (from path.py)\n",
            "  Downloading path-16.6.0-py3-none-any.whl (26 kB)\n",
            "Installing collected packages: path, path.py\n",
            "Successfully installed path-16.6.0 path.py-12.5.0\n",
            "Looking in indexes: https://pypi.org/simple, https://us-python.pkg.dev/colab-wheels/public/simple/\n",
            "Collecting trimesh\n",
            "  Downloading trimesh-3.21.6-py3-none-any.whl (680 kB)\n",
            "\u001b[2K     \u001b[90m━━━━━━━━━━━━━━━━━━━━━━━━━━━━━━━━━━━━━━\u001b[0m \u001b[32m681.0/681.0 kB\u001b[0m \u001b[31m18.5 MB/s\u001b[0m eta \u001b[36m0:00:00\u001b[0m\n",
            "\u001b[?25hRequirement already satisfied: numpy in /usr/local/lib/python3.10/dist-packages (from trimesh) (1.22.4)\n",
            "Installing collected packages: trimesh\n",
            "Successfully installed trimesh-3.21.6\n"
          ]
        }
      ],
      "source": [
        "!pip install path.py;\n",
        "!pip install trimesh\n",
        "from path import Path\n",
        "import trimesh"
      ]
    },
    {
      "cell_type": "code",
      "execution_count": 4,
      "metadata": {
        "colab": {
          "base_uri": "https://localhost:8080/"
        },
        "id": "fZR6_yn59To2",
        "outputId": "de7d5068-d8f6-417a-f23d-55e92bf90757"
      },
      "outputs": [
        {
          "output_type": "stream",
          "name": "stdout",
          "text": [
            "/usr/local/lib/python3.10/dist-packages/gdown/cli.py:121: FutureWarning: Option `--id` was deprecated in version 4.3.1 and will be removed in 5.0. You don't need to pass it anymore to use a file ID.\n",
            "  warnings.warn(\n",
            "Downloading...\n",
            "From: https://drive.google.com/uc?id=13KPEBUaqgxXWyKdOoXDvHbFurVXSh8G-\n",
            "To: /content/Pointnet++.zip\n",
            "100% 23.4k/23.4k [00:00<00:00, 98.8MB/s]\n"
          ]
        }
      ],
      "source": [
        "#get code\n",
        "!gdown --id 13KPEBUaqgxXWyKdOoXDvHbFurVXSh8G-"
      ]
    },
    {
      "cell_type": "code",
      "execution_count": 5,
      "metadata": {
        "colab": {
          "base_uri": "https://localhost:8080/"
        },
        "id": "A4o3PC9p9YN0",
        "outputId": "072566e7-40b5-4a14-dd36-8bbd56c451fb"
      },
      "outputs": [
        {
          "output_type": "stream",
          "name": "stdout",
          "text": [
            "Archive:  Pointnet++.zip\n",
            "   creating: Pointnet++/\n",
            "  inflating: Pointnet++/.gitignore   \n",
            "  inflating: Pointnet++/README.md    \n",
            "   creating: Pointnet++/data/\n",
            "  inflating: Pointnet++/data/CustomDataset.py  \n",
            "  inflating: Pointnet++/data/ModelNet40.py  \n",
            "  inflating: Pointnet++/data/ShapeNet.py  \n",
            " extracting: Pointnet++/data/__init__.py  \n",
            "  inflating: Pointnet++/data/provider.py  \n",
            "  inflating: Pointnet++/evaluate.py  \n",
            "  inflating: Pointnet++/evaluate_custom.py  \n",
            "   creating: Pointnet++/models/\n",
            " extracting: Pointnet++/models/__init__.py  \n",
            "  inflating: Pointnet++/models/pointnet2_cls.py  \n",
            "  inflating: Pointnet++/models/pointnet2_seg.py  \n",
            "  inflating: Pointnet++/train_clss.py  \n",
            "  inflating: Pointnet++/train_custom_cls.py  \n",
            "  inflating: Pointnet++/train_part_seg.py  \n",
            "   creating: Pointnet++/utils/\n",
            "  inflating: Pointnet++/utils/IoU.py  \n",
            " extracting: Pointnet++/utils/__init__.py  \n",
            "  inflating: Pointnet++/utils/common.py  \n",
            "  inflating: Pointnet++/utils/feature_propagation.py  \n",
            "  inflating: Pointnet++/utils/grouping.py  \n",
            "  inflating: Pointnet++/utils/sampling.py  \n",
            "  inflating: Pointnet++/utils/set_abstraction.py  \n"
          ]
        }
      ],
      "source": [
        "!unzip Pointnet++.zip"
      ]
    },
    {
      "cell_type": "code",
      "execution_count": 6,
      "metadata": {
        "colab": {
          "base_uri": "https://localhost:8080/"
        },
        "id": "JsUjkhBe-QRk",
        "outputId": "d21bf42c-6c6e-4146-f9ab-d8094fb1c347"
      },
      "outputs": [
        {
          "output_type": "stream",
          "name": "stdout",
          "text": [
            "/content/Pointnet++\n"
          ]
        }
      ],
      "source": [
        "%cd Pointnet++"
      ]
    },
    {
      "cell_type": "code",
      "execution_count": 7,
      "metadata": {
        "colab": {
          "base_uri": "https://localhost:8080/"
        },
        "id": "8vVj1cmWq32b",
        "outputId": "8bcec6fa-9d6d-4358-8b45-cc1937066c89"
      },
      "outputs": [
        {
          "output_type": "stream",
          "name": "stdout",
          "text": [
            "--2023-05-15 11:12:48--  http://3dvision.princeton.edu/projects/2014/3DShapeNets/ModelNet10.zip\n",
            "Resolving 3dvision.princeton.edu (3dvision.princeton.edu)... 128.112.136.74\n",
            "Connecting to 3dvision.princeton.edu (3dvision.princeton.edu)|128.112.136.74|:80... connected.\n",
            "HTTP request sent, awaiting response... 302 Found\n",
            "Location: https://3dvision.princeton.edu/projects/2014/3DShapeNets/ModelNet10.zip [following]\n",
            "--2023-05-15 11:12:48--  https://3dvision.princeton.edu/projects/2014/3DShapeNets/ModelNet10.zip\n",
            "Connecting to 3dvision.princeton.edu (3dvision.princeton.edu)|128.112.136.74|:443... connected.\n",
            "HTTP request sent, awaiting response... 200 OK\n",
            "Length: 473402300 (451M) [application/zip]\n",
            "Saving to: ‘ModelNet10.zip’\n",
            "\n",
            "ModelNet10.zip      100%[===================>] 451.47M  42.7MB/s    in 11s     \n",
            "\n",
            "2023-05-15 11:13:00 (40.5 MB/s) - ‘ModelNet10.zip’ saved [473402300/473402300]\n",
            "\n"
          ]
        }
      ],
      "source": [
        "#get data\n",
        "!wget http://3dvision.princeton.edu/projects/2014/3DShapeNets/ModelNet10.zip"
      ]
    },
    {
      "cell_type": "code",
      "execution_count": 8,
      "metadata": {
        "id": "mgFq_O0wq6Mo"
      },
      "outputs": [],
      "source": [
        "!unzip -q ModelNet10.zip;"
      ]
    },
    {
      "cell_type": "code",
      "execution_count": 9,
      "metadata": {
        "id": "t-iUWZ3hp47q"
      },
      "outputs": [],
      "source": [
        "classes = ['ceiling', 'floor', 'wall', 'beam', 'column', 'window', 'door', 'table', 'chair', 'sofa', 'bookcase',\n",
        "           'board', 'clutter']\n",
        "class2label = {cls: i for i, cls in enumerate(classes)}\n",
        "seg_classes = class2label\n",
        "seg_label_to_cat = {}\n",
        "for i, cat in enumerate(seg_classes.keys()):\n",
        "    seg_label_to_cat[i] = cat"
      ]
    },
    {
      "cell_type": "code",
      "execution_count": 10,
      "metadata": {
        "id": "usilG1n6p7IK"
      },
      "outputs": [],
      "source": [
        "NUM_CLASSES = 13\n",
        "BATCH_SIZE = 32\n",
        "NUM_POINT = 4096"
      ]
    },
    {
      "cell_type": "code",
      "execution_count": 11,
      "metadata": {
        "id": "bjOsHRoQp9Qp"
      },
      "outputs": [],
      "source": [
        "path = Path(\"ModelNet10\")"
      ]
    },
    {
      "cell_type": "code",
      "execution_count": 12,
      "metadata": {
        "colab": {
          "base_uri": "https://localhost:8080/"
        },
        "id": "P_6imw_zp_Bp",
        "outputId": "a4797d10-0c9a-455e-e069-f393e4968802"
      },
      "outputs": [
        {
          "output_type": "execute_result",
          "data": {
            "text/plain": [
              "{'bathtub': 0,\n",
              " 'bed': 1,\n",
              " 'chair': 2,\n",
              " 'desk': 3,\n",
              " 'dresser': 4,\n",
              " 'monitor': 5,\n",
              " 'night_stand': 6,\n",
              " 'sofa': 7,\n",
              " 'table': 8,\n",
              " 'toilet': 9}"
            ]
          },
          "metadata": {},
          "execution_count": 12
        }
      ],
      "source": [
        "folders = [dir for dir in sorted(os.listdir(path)) if os.path.isdir(path/dir)]\n",
        "classes = {folder: i for i, folder in enumerate(folders)};\n",
        "classes"
      ]
    },
    {
      "cell_type": "code",
      "execution_count": 13,
      "metadata": {
        "id": "FhTjgk8MCkdx"
      },
      "outputs": [],
      "source": [
        "pcd = trimesh.load(\"ModelNet10/sofa/train/sofa_0001.off\")"
      ]
    },
    {
      "cell_type": "markdown",
      "metadata": {
        "id": "wf-K6EvErmYo"
      },
      "source": [
        "# Data pre-processing\n",
        "\n",
        "## Sample Points"
      ]
    },
    {
      "cell_type": "code",
      "execution_count": 14,
      "metadata": {
        "id": "q8iWHV_wqAWc"
      },
      "outputs": [],
      "source": [
        "class PointSampler(object):\n",
        "    def __init__(self, output_size):\n",
        "        assert isinstance(output_size, int)\n",
        "        self.output_size = output_size\n",
        "\n",
        "    def __call__(self, mesh):\n",
        "        # sampled_pc = trimesh.sample.sample_surface(mesh,self.output_size)\n",
        "        # pc = sampled_pc[0]\n",
        "        points, faces = mesh.sample(self.output_size, return_index=True)\n",
        "        normals = mesh.face_normals[faces]\n",
        "        points = np.concatenate((points,normals), axis=1)\n",
        "        return points"
      ]
    },
    {
      "cell_type": "markdown",
      "metadata": {
        "id": "zMksrsZ7ru_K"
      },
      "source": [
        "## Normalize\n",
        "\n",
        "We need to position the point cloud at the center (0,0,0) and the values normalized between 0-1."
      ]
    },
    {
      "cell_type": "code",
      "execution_count": 15,
      "metadata": {
        "id": "MBmdDmLrrrKf"
      },
      "outputs": [],
      "source": [
        "class Normalize(object):\n",
        "    def __call__(self, data ):\n",
        "        assert len(data.shape)==2\n",
        "        pointcloud = data[:,:3]\n",
        "        normals = data[:,3:]\n",
        "\n",
        "        norm_pointcloud = pointcloud - np.mean(pointcloud, axis=0) \n",
        "        norm_pointcloud /= np.max(np.linalg.norm(norm_pointcloud, axis=1))\n",
        "        final = np.concatenate((norm_pointcloud, normals),axis=1)\n",
        "        return  final"
      ]
    },
    {
      "cell_type": "markdown",
      "metadata": {
        "id": "ZR2qqX0lryfU"
      },
      "source": [
        "## Data Augmentations\n",
        "\n",
        "We randomly rotate the point cloud and add random noice. "
      ]
    },
    {
      "cell_type": "code",
      "execution_count": 16,
      "metadata": {
        "id": "vdDH7G42rwpX"
      },
      "outputs": [],
      "source": [
        "class RandRotation_z(object):\n",
        "    def __call__(self, data):\n",
        "        assert len(data.shape)==2\n",
        "        pointcloud = data[:,:3]\n",
        "        normals = data[:,3:]\n",
        "\n",
        "        theta = random.random() * 2. * math.pi\n",
        "        rot_matrix = np.array([[ math.cos(theta), -math.sin(theta),    0],\n",
        "                               [ math.sin(theta),  math.cos(theta),    0],\n",
        "                               [0,                             0,      1]])\n",
        "        \n",
        "        rot_pointcloud = rot_matrix.dot(pointcloud.T).T\n",
        "        rot_normals = rot_matrix.dot(normals.T).T\n",
        "\n",
        "        final = np.concatenate((rot_pointcloud, rot_normals),axis=1)\n",
        "\n",
        "        return  final\n",
        "    \n",
        "class RandomNoise_rotate(object):\n",
        "    def __call__(self, data, angle_sigma=0.06, angle_clip=0.18):\n",
        "        assert len(data.shape)==2\n",
        "\n",
        "        pointcloud = data[:,:3]\n",
        "        normals = data[:,3:]\n",
        "\n",
        "        angles = np.clip(angle_sigma*np.random.randn(3), -angle_clip, angle_clip)\n",
        "        Rx = np.array([[1,0,0],\n",
        "                    [0,np.cos(angles[0]),-np.sin(angles[0])],\n",
        "                    [0,np.sin(angles[0]),np.cos(angles[0])]])\n",
        "        Ry = np.array([[np.cos(angles[1]),0,np.sin(angles[1])],\n",
        "                    [0,1,0],\n",
        "                    [-np.sin(angles[1]),0,np.cos(angles[1])]])\n",
        "        Rz = np.array([[np.cos(angles[2]),-np.sin(angles[2]),0],\n",
        "                    [np.sin(angles[2]),np.cos(angles[2]),0],\n",
        "                    [0,0,1]])\n",
        "        R = np.dot(Rz, np.dot(Ry,Rx))\n",
        "\n",
        "        pointcloud = np.dot(pointcloud, R)\n",
        "        normals = np.dot(normals, R)\n",
        "\n",
        "        final = np.concatenate((pointcloud, normals),axis=1)\n",
        "\n",
        "        return final"
      ]
    },
    {
      "cell_type": "markdown",
      "metadata": {
        "id": "JuI_7JHar3nL"
      },
      "source": [
        "## To Tensor"
      ]
    },
    {
      "cell_type": "code",
      "execution_count": 17,
      "metadata": {
        "id": "6bosmcThr0d3"
      },
      "outputs": [],
      "source": [
        "class ToTensor(object):\n",
        "    def __call__(self, data):\n",
        "        assert len(data.shape)==2\n",
        "\n",
        "        pointcloud = data[:,:3]\n",
        "        normals = data[:,3:]\n",
        "\n",
        "        pointcloud = torch.from_numpy(pointcloud)\n",
        "        normals = torch.from_numpy(normals)\n",
        "\n",
        "        final = np.concatenate((pointcloud, normals),axis=1)\n",
        "\n",
        "        return final"
      ]
    },
    {
      "cell_type": "code",
      "execution_count": 18,
      "metadata": {
        "id": "RZXV_EWar5Mn"
      },
      "outputs": [],
      "source": [
        "def default_transforms():\n",
        "    return transforms.Compose([\n",
        "                                PointSampler(1024),\n",
        "                                Normalize(),\n",
        "                                ToTensor()\n",
        "                              ])"
      ]
    },
    {
      "cell_type": "markdown",
      "metadata": {
        "id": "UfNNSm1Zr77P"
      },
      "source": [
        "# Dataset"
      ]
    },
    {
      "cell_type": "code",
      "execution_count": 19,
      "metadata": {
        "id": "SOjqru9_r6Z3"
      },
      "outputs": [],
      "source": [
        "class PointCloudData(Dataset):\n",
        "    def __init__(self, root_dir, valid=False, folder=\"train\", transform=default_transforms()):\n",
        "        self.root_dir = root_dir\n",
        "        folders = [dir for dir in sorted(os.listdir(root_dir)) if os.path.isdir(root_dir/dir)]\n",
        "        self.classes = {folder: i for i, folder in enumerate(folders)}\n",
        "        self.transforms = transform if not valid else default_transforms()\n",
        "        self.valid = valid\n",
        "        self.files = []\n",
        "        for category in self.classes.keys():\n",
        "            new_dir = root_dir/Path(category)/folder\n",
        "            for file in os.listdir(new_dir):\n",
        "                if file.endswith('.off'):\n",
        "                    sample = {}\n",
        "                    sample['pcd_path'] = new_dir/file\n",
        "                    sample['category'] = category\n",
        "                    self.files.append(sample)\n",
        "\n",
        "    def __len__(self):\n",
        "        return len(self.files)\n",
        "\n",
        "    def __preproc__(self, file):\n",
        "        pcd = trimesh.load(file)\n",
        "\n",
        "        if self.transforms:\n",
        "            data = self.transforms(pcd)\n",
        "\n",
        "        pointcloud = data[:,:3]\n",
        "        normals = data[:,3:]\n",
        "        \n",
        "        return pointcloud,normals\n",
        "\n",
        "    def __getitem__(self, idx):\n",
        "        pcd_path = self.files[idx]['pcd_path']\n",
        "        category = self.files[idx]['category']\n",
        "        \n",
        "        pointcloud,normals = self.__preproc__(pcd_path)\n",
        "        \n",
        "        return {'pointcloud': pointcloud, \n",
        "                'normals': normals,\n",
        "                'category': self.classes[category]}"
      ]
    },
    {
      "cell_type": "code",
      "execution_count": 20,
      "metadata": {
        "id": "Gvd0n77xr9vZ"
      },
      "outputs": [],
      "source": [
        "train_transforms = transforms.Compose([\n",
        "                    PointSampler(1024),\n",
        "                    Normalize(),\n",
        "                    RandRotation_z(),\n",
        "                    RandomNoise_rotate(),\n",
        "                    ToTensor()\n",
        "                    ])"
      ]
    },
    {
      "cell_type": "code",
      "execution_count": 21,
      "metadata": {
        "id": "VbEaKmZnr_CH"
      },
      "outputs": [],
      "source": [
        "train_ds = PointCloudData(path, transform=train_transforms)\n",
        "valid_ds = PointCloudData(path, valid=True, folder='test', transform=train_transforms)"
      ]
    },
    {
      "cell_type": "code",
      "execution_count": 22,
      "metadata": {
        "colab": {
          "base_uri": "https://localhost:8080/"
        },
        "id": "remnbQyEsHdp",
        "outputId": "0fad3aaf-6d21-47a0-ad09-906e49734803"
      },
      "outputs": [
        {
          "output_type": "execute_result",
          "data": {
            "text/plain": [
              "{0: 'bathtub',\n",
              " 1: 'bed',\n",
              " 2: 'chair',\n",
              " 3: 'desk',\n",
              " 4: 'dresser',\n",
              " 5: 'monitor',\n",
              " 6: 'night_stand',\n",
              " 7: 'sofa',\n",
              " 8: 'table',\n",
              " 9: 'toilet'}"
            ]
          },
          "metadata": {},
          "execution_count": 22
        }
      ],
      "source": [
        "inv_classes = {i: cat for cat, i in train_ds.classes.items()};\n",
        "inv_classes"
      ]
    },
    {
      "cell_type": "code",
      "execution_count": 23,
      "metadata": {
        "colab": {
          "base_uri": "https://localhost:8080/"
        },
        "id": "dgk1S1DgsAKG",
        "outputId": "9cd8fc97-93f1-4660-879e-6f81fee03d9f"
      },
      "outputs": [
        {
          "output_type": "stream",
          "name": "stdout",
          "text": [
            "Train dataset size:  3991\n",
            "Valid dataset size:  908\n",
            "Number of classes:  10\n",
            "Sample pointcloud shape:  (1024, 3)\n",
            "Class:  bathtub\n"
          ]
        }
      ],
      "source": [
        "print('Train dataset size: ', len(train_ds))\n",
        "print('Valid dataset size: ', len(valid_ds))\n",
        "print('Number of classes: ', len(train_ds.classes))\n",
        "print('Sample pointcloud shape: ', train_ds[0]['pointcloud'].shape)\n",
        "print('Class: ', inv_classes[train_ds[0]['category']])"
      ]
    },
    {
      "cell_type": "code",
      "execution_count": 24,
      "metadata": {
        "id": "ZB61EZDTB2-U"
      },
      "outputs": [],
      "source": [
        "train_loader = DataLoader(dataset=train_ds, batch_size=32, shuffle=True,drop_last=True)\n",
        "valid_loader = DataLoader(dataset=valid_ds, batch_size=64,drop_last=True)"
      ]
    },
    {
      "cell_type": "markdown",
      "metadata": {
        "id": "gaVrHAcusJfl"
      },
      "source": [
        "# Model\n",
        "Pointnet classification architecture. \n",
        "![PointNet.png](https://drive.google.com/uc?id=1wJ-RePRBhkaMoaMVZ8tiTp91a9sa6cy6)\n"
      ]
    },
    {
      "cell_type": "code",
      "execution_count": 25,
      "metadata": {
        "id": "NUMOxJvFsCaH"
      },
      "outputs": [],
      "source": [
        "import torch\n",
        "import torch.nn as nn\n",
        "import numpy as np\n",
        "import torch.nn.functional as F\n",
        "\n",
        "from utils.common import gather_points\n",
        "from utils.grouping import ball_query\n",
        "from utils.sampling import fps\n",
        "\n"
      ]
    },
    {
      "cell_type": "code",
      "execution_count": 26,
      "metadata": {
        "id": "1beQInN5_oOY"
      },
      "outputs": [],
      "source": [
        "def sample_and_group(xyz, points, M, radius, K, use_xyz=True):\n",
        "    '''\n",
        "    :param xyz: shape=(B, N, 3)\n",
        "    :param points: shape=(B, N, C)\n",
        "    :param M: int\n",
        "    :param radius:float\n",
        "    :param K: int\n",
        "    :param use_xyz: bool, if True concat XYZ with local point features, otherwise just use point features\n",
        "    :return: new_xyz, shape=(B, M, 3); new_points, shape=(B, M, K, C+3);\n",
        "             group_inds, shape=(B, M, K); grouped_xyz, shape=(B, M, K, 3)\n",
        "    '''\n",
        "    new_xyz = gather_points(xyz, fps(xyz, M))\n",
        "    grouped_inds = ball_query(xyz, new_xyz, radius, K)\n",
        "    grouped_xyz = gather_points(xyz, grouped_inds)\n",
        "    grouped_xyz -= torch.unsqueeze(new_xyz, 2).repeat(1, 1, K, 1)\n",
        "    if points is not None:\n",
        "        grouped_points = gather_points(points, grouped_inds)\n",
        "        if use_xyz:\n",
        "            new_points = torch.cat((grouped_xyz.float(), grouped_points.float()), dim=-1)\n",
        "        else:\n",
        "            new_points = grouped_points\n",
        "    else:\n",
        "        new_points = grouped_xyz\n",
        "    return new_xyz, new_points, grouped_inds, grouped_xyz\n",
        "\n"
      ]
    },
    {
      "cell_type": "code",
      "execution_count": 27,
      "metadata": {
        "id": "zX8pcKXj_hUO"
      },
      "outputs": [],
      "source": [
        "\n",
        "def sample_and_group_all(xyz, points, use_xyz=True):\n",
        "    '''\n",
        "    :param xyz: shape=(B, M, 3)\n",
        "    :param points: shape=(B, M, C)\n",
        "    :param use_xyz:\n",
        "    :return: new_xyz, shape=(B, 1, 3); new_points, shape=(B, 1, M, C+3);\n",
        "             group_inds, shape=(B, 1, M); grouped_xyz, shape=(B, 1, M, 3)\n",
        "    '''\n",
        "    B, M, C = xyz.shape\n",
        "    new_xyz = torch.zeros(B, 1, C)\n",
        "    grouped_inds = torch.arange(0, M).long().view(1, 1, M).repeat(B, 1, 1)\n",
        "    grouped_xyz = xyz.view(B, 1, M, C)\n",
        "    if points is not None:\n",
        "        if use_xyz:\n",
        "            new_points = torch.cat([xyz.float(), points.float()], dim=2)\n",
        "        else:\n",
        "            new_points = points\n",
        "        new_points = torch.unsqueeze(new_points, dim=1)\n",
        "    else:\n",
        "        new_points = grouped_xyz\n",
        "    return new_xyz, new_points, grouped_inds, grouped_xyz\n"
      ]
    },
    {
      "cell_type": "code",
      "execution_count": 28,
      "metadata": {
        "id": "Sf2iBjVH_gp_"
      },
      "outputs": [],
      "source": [
        "\n",
        "class PointNet_SA_Module(nn.Module):\n",
        "    def __init__(self, M, radius, K, in_channels, mlp, group_all, bn=True, pooling='max', use_xyz=True):\n",
        "        super(PointNet_SA_Module, self).__init__()\n",
        "        self.M = M\n",
        "        self.radius = radius\n",
        "        self.K = K\n",
        "        self.in_channels = in_channels\n",
        "        self.mlp = mlp\n",
        "        self.group_all = group_all\n",
        "        self.bn = bn\n",
        "        self.pooling = pooling\n",
        "        self.use_xyz = use_xyz\n",
        "        self.backbone = nn.Sequential()\n",
        "        for i, out_channels in enumerate(mlp):\n",
        "            self.backbone.add_module('Conv{}'.format(i),\n",
        "                                     nn.Conv2d(in_channels, out_channels, 1,\n",
        "                                               stride=1, padding=0, bias=False))\n",
        "            if bn:\n",
        "                self.backbone.add_module('Bn{}'.format(i),\n",
        "                                         nn.BatchNorm2d(out_channels))\n",
        "            self.backbone.add_module('Relu{}'.format(i), nn.ReLU())\n",
        "            in_channels = out_channels\n",
        "    def forward(self, xyz, points):\n",
        "        if self.group_all:\n",
        "            new_xyz, new_points, grouped_inds, grouped_xyz = sample_and_group_all(xyz, points, self.use_xyz)\n",
        "        else:\n",
        "            new_xyz, new_points, grouped_inds, grouped_xyz = sample_and_group(xyz=xyz,\n",
        "                                                                              points=points,\n",
        "                                                                              M=self.M,\n",
        "                                                                              radius=self.radius,\n",
        "                                                                              K=self.K,\n",
        "                                                                              use_xyz=self.use_xyz)\n",
        "        new_points = self.backbone(new_points.permute(0, 3, 2, 1).contiguous())\n",
        "        if self.pooling == 'avg':\n",
        "            new_points = torch.mean(new_points, dim=2)\n",
        "        else:\n",
        "            new_points = torch.max(new_points, dim=2)[0]\n",
        "        new_points = new_points.permute(0, 2, 1).contiguous()\n",
        "        return new_xyz, new_points\n",
        "\n"
      ]
    },
    {
      "cell_type": "code",
      "execution_count": 29,
      "metadata": {
        "id": "397JMWWi-mT1"
      },
      "outputs": [],
      "source": [
        "class pointnet2_cls_ssg(nn.Module):\n",
        "    def __init__(self, in_channels, nclasses):\n",
        "        super(pointnet2_cls_ssg, self).__init__()\n",
        "        self.pt_sa1 = PointNet_SA_Module(M=512, radius=0.2, K=32, in_channels=in_channels, mlp=[64, 64, 128], group_all=False)\n",
        "        self.pt_sa2 = PointNet_SA_Module(M=128, radius=0.4, K=64, in_channels=131, mlp=[128, 128, 256], group_all=False)\n",
        "        self.pt_sa3 = PointNet_SA_Module(M=None, radius=None, K=None, in_channels=259, mlp=[256, 512, 1024], group_all=True)\n",
        "        self.fc1 = nn.Linear(1024, 512, bias=False)\n",
        "        self.bn1 = nn.BatchNorm1d(512)\n",
        "        self.dropout1 = nn.Dropout(0.5)\n",
        "        self.fc2 = nn.Linear(512, 256, bias=False)\n",
        "        self.bn2 = nn.BatchNorm1d(256)\n",
        "        self.dropout2 = nn.Dropout(0.5)\n",
        "        self.cls = nn.Linear(256, nclasses)\n",
        "\n",
        "    def forward(self, xyz,points):\n",
        "        batchsize = xyz.shape[0]\n",
        "        print(\"SHAPE\", xyz.shape, points.shape)\n",
        "\n",
        "        new_xyz, new_points = self.pt_sa1(xyz, points)\n",
        "        new_xyz, new_points = self.pt_sa2(new_xyz, new_points)\n",
        "        new_xyz, new_points = self.pt_sa3(new_xyz, new_points)\n",
        "        net = new_points.view(batchsize, -1)\n",
        "        net = self.dropout1(F.relu(self.bn1(self.fc1(net))))\n",
        "        net = self.dropout2(F.relu(self.bn2(self.fc2(net))))\n",
        "        net = self.cls(net)\n",
        "        return net\n",
        "\n"
      ]
    },
    {
      "cell_type": "code",
      "execution_count": 30,
      "metadata": {
        "id": "cc6WilBe-v-3"
      },
      "outputs": [],
      "source": [
        "class cls_loss(nn.Module):\n",
        "    def __init__(self):\n",
        "        super(cls_loss, self).__init__()\n",
        "        self.loss = nn.CrossEntropyLoss()\n",
        "    def forward(self, pred, lable):\n",
        "        '''\n",
        "        :param pred: shape=(B, nclass)\n",
        "        :param lable: shape=(B, )\n",
        "        :return: loss\n",
        "        '''\n",
        "        loss = self.loss(pred, lable)\n",
        "        return loss\n"
      ]
    },
    {
      "cell_type": "code",
      "execution_count": 31,
      "metadata": {
        "colab": {
          "base_uri": "https://localhost:8080/"
        },
        "id": "OqWrTC5p-xtW",
        "outputId": "16377a67-a50f-4eef-aca6-92db7f4759ad"
      },
      "outputs": [
        {
          "output_type": "stream",
          "name": "stdout",
          "text": [
            "cuda:0\n"
          ]
        }
      ],
      "source": [
        "device = torch.device(\"cuda:0\" if torch.cuda.is_available() else \"cpu\")\n",
        "print(device)"
      ]
    },
    {
      "cell_type": "code",
      "execution_count": 32,
      "metadata": {
        "id": "q6eBWu6N_3ko"
      },
      "outputs": [],
      "source": [
        "in_channels = 6\n",
        "pointnet2 = pointnet2_cls_ssg(in_channels, NUM_CLASSES)\n",
        "pointnet2.to(device);\n",
        "loss = cls_loss().to(device)"
      ]
    },
    {
      "cell_type": "code",
      "execution_count": 33,
      "metadata": {
        "id": "tPtZNCz5Au1H"
      },
      "outputs": [],
      "source": [
        "optimizer = torch.optim.Adam(pointnet2.parameters(), lr=0.001,betas=(0.9, 0.999), eps=1e-08, weight_decay=1e-4)"
      ]
    },
    {
      "cell_type": "code",
      "execution_count": 34,
      "metadata": {
        "id": "mYOy-qeUBK5U"
      },
      "outputs": [],
      "source": [
        "def train(model, train_loader, val_loader=None,  epochs=15, save=True):\n",
        "    for epoch in range(epochs): \n",
        "        pointnet2.train()\n",
        "        running_loss = 0.0\n",
        "        for i, data in enumerate(train_loader ):\n",
        "            \n",
        "            points, normals, labels = data['pointcloud'].to(device).float(), data['normals'].to(device).float(), data['category'].to(device)\n",
        "            optimizer.zero_grad()\n",
        "            pred = pointnet2(points, normals)\n",
        "\n",
        "            loss_val = loss(pred,labels)\n",
        "            loss_val.backward()\n",
        "            optimizer.step()\n",
        "\n",
        "            # print statistics\n",
        "            running_loss += loss_val.item()\n",
        "            if i % 10 == 9:    # print every 10 mini-batches\n",
        "                    print('[Epoch: %d, Batch: %4d / %4d], loss: %.3f' %\n",
        "                        (epoch + 1, i + 1, len(train_loader), running_loss / 10))\n",
        "                    running_loss = 0.0\n",
        "\n",
        "        pointnet2.eval()\n",
        "        correct = total = 0\n",
        "\n",
        "        # validation\n",
        "        if val_loader:\n",
        "            with torch.no_grad():\n",
        "                for data in val_loader:\n",
        "                    points, normals, labels = data['pointcloud'].to(device).float(), data['normals'].to(device).float(), data['category'].to(device)\n",
        "                    outputs =  pointnet2(points, normals)\n",
        "                    _, predicted = torch.max(outputs , 1)\n",
        "                    total += labels.size(0)\n",
        "                    correct += (predicted == labels).sum().item()\n",
        "            val_acc = 100. * correct / total\n",
        "            print('Valid accuracy: %d %%' % val_acc)\n",
        "\n",
        "        # save the model\n",
        "        if save:\n",
        "            torch.save(pointnet2.state_dict(), \"save_\"+str(epoch)+\".pth\")"
      ]
    },
    {
      "cell_type": "code",
      "execution_count": 35,
      "metadata": {
        "colab": {
          "base_uri": "https://localhost:8080/",
          "height": 1000
        },
        "id": "Ub_bS43YBtMV",
        "outputId": "997a75b9-18a6-4615-9782-819118057edb"
      },
      "outputs": [
        {
          "output_type": "stream",
          "name": "stdout",
          "text": [
            "SHAPE torch.Size([32, 1024, 3]) torch.Size([32, 1024, 3])\n",
            "SHAPE torch.Size([32, 1024, 3]) torch.Size([32, 1024, 3])\n",
            "SHAPE torch.Size([32, 1024, 3]) torch.Size([32, 1024, 3])\n",
            "SHAPE torch.Size([32, 1024, 3]) torch.Size([32, 1024, 3])\n",
            "SHAPE torch.Size([32, 1024, 3]) torch.Size([32, 1024, 3])\n",
            "SHAPE torch.Size([32, 1024, 3]) torch.Size([32, 1024, 3])\n",
            "SHAPE torch.Size([32, 1024, 3]) torch.Size([32, 1024, 3])\n",
            "SHAPE torch.Size([32, 1024, 3]) torch.Size([32, 1024, 3])\n",
            "SHAPE torch.Size([32, 1024, 3]) torch.Size([32, 1024, 3])\n",
            "SHAPE torch.Size([32, 1024, 3]) torch.Size([32, 1024, 3])\n",
            "[Epoch: 1, Batch:   10 /  124], loss: 2.129\n",
            "SHAPE torch.Size([32, 1024, 3]) torch.Size([32, 1024, 3])\n",
            "SHAPE torch.Size([32, 1024, 3]) torch.Size([32, 1024, 3])\n",
            "SHAPE torch.Size([32, 1024, 3]) torch.Size([32, 1024, 3])\n",
            "SHAPE torch.Size([32, 1024, 3]) torch.Size([32, 1024, 3])\n",
            "SHAPE torch.Size([32, 1024, 3]) torch.Size([32, 1024, 3])\n",
            "SHAPE torch.Size([32, 1024, 3]) torch.Size([32, 1024, 3])\n",
            "SHAPE torch.Size([32, 1024, 3]) torch.Size([32, 1024, 3])\n",
            "SHAPE torch.Size([32, 1024, 3]) torch.Size([32, 1024, 3])\n",
            "SHAPE torch.Size([32, 1024, 3]) torch.Size([32, 1024, 3])\n",
            "SHAPE torch.Size([32, 1024, 3]) torch.Size([32, 1024, 3])\n",
            "[Epoch: 1, Batch:   20 /  124], loss: 1.613\n",
            "SHAPE torch.Size([32, 1024, 3]) torch.Size([32, 1024, 3])\n",
            "SHAPE torch.Size([32, 1024, 3]) torch.Size([32, 1024, 3])\n",
            "SHAPE torch.Size([32, 1024, 3]) torch.Size([32, 1024, 3])\n",
            "SHAPE torch.Size([32, 1024, 3]) torch.Size([32, 1024, 3])\n",
            "SHAPE torch.Size([32, 1024, 3]) torch.Size([32, 1024, 3])\n",
            "SHAPE torch.Size([32, 1024, 3]) torch.Size([32, 1024, 3])\n",
            "SHAPE torch.Size([32, 1024, 3]) torch.Size([32, 1024, 3])\n",
            "SHAPE torch.Size([32, 1024, 3]) torch.Size([32, 1024, 3])\n",
            "SHAPE torch.Size([32, 1024, 3]) torch.Size([32, 1024, 3])\n",
            "SHAPE torch.Size([32, 1024, 3]) torch.Size([32, 1024, 3])\n",
            "[Epoch: 1, Batch:   30 /  124], loss: 1.304\n",
            "SHAPE torch.Size([32, 1024, 3]) torch.Size([32, 1024, 3])\n",
            "SHAPE torch.Size([32, 1024, 3]) torch.Size([32, 1024, 3])\n",
            "SHAPE torch.Size([32, 1024, 3]) torch.Size([32, 1024, 3])\n",
            "SHAPE torch.Size([32, 1024, 3]) torch.Size([32, 1024, 3])\n",
            "SHAPE torch.Size([32, 1024, 3]) torch.Size([32, 1024, 3])\n",
            "SHAPE torch.Size([32, 1024, 3]) torch.Size([32, 1024, 3])\n",
            "SHAPE torch.Size([32, 1024, 3]) torch.Size([32, 1024, 3])\n",
            "SHAPE torch.Size([32, 1024, 3]) torch.Size([32, 1024, 3])\n",
            "SHAPE torch.Size([32, 1024, 3]) torch.Size([32, 1024, 3])\n",
            "SHAPE torch.Size([32, 1024, 3]) torch.Size([32, 1024, 3])\n",
            "[Epoch: 1, Batch:   40 /  124], loss: 1.378\n",
            "SHAPE torch.Size([32, 1024, 3]) torch.Size([32, 1024, 3])\n",
            "SHAPE torch.Size([32, 1024, 3]) torch.Size([32, 1024, 3])\n",
            "SHAPE torch.Size([32, 1024, 3]) torch.Size([32, 1024, 3])\n",
            "SHAPE torch.Size([32, 1024, 3]) torch.Size([32, 1024, 3])\n",
            "SHAPE torch.Size([32, 1024, 3]) torch.Size([32, 1024, 3])\n",
            "SHAPE torch.Size([32, 1024, 3]) torch.Size([32, 1024, 3])\n",
            "SHAPE torch.Size([32, 1024, 3]) torch.Size([32, 1024, 3])\n",
            "SHAPE torch.Size([32, 1024, 3]) torch.Size([32, 1024, 3])\n",
            "SHAPE torch.Size([32, 1024, 3]) torch.Size([32, 1024, 3])\n",
            "SHAPE torch.Size([32, 1024, 3]) torch.Size([32, 1024, 3])\n",
            "[Epoch: 1, Batch:   50 /  124], loss: 1.077\n",
            "SHAPE torch.Size([32, 1024, 3]) torch.Size([32, 1024, 3])\n",
            "SHAPE torch.Size([32, 1024, 3]) torch.Size([32, 1024, 3])\n",
            "SHAPE torch.Size([32, 1024, 3]) torch.Size([32, 1024, 3])\n",
            "SHAPE torch.Size([32, 1024, 3]) torch.Size([32, 1024, 3])\n",
            "SHAPE torch.Size([32, 1024, 3]) torch.Size([32, 1024, 3])\n",
            "SHAPE torch.Size([32, 1024, 3]) torch.Size([32, 1024, 3])\n",
            "SHAPE torch.Size([32, 1024, 3]) torch.Size([32, 1024, 3])\n",
            "SHAPE torch.Size([32, 1024, 3]) torch.Size([32, 1024, 3])\n",
            "SHAPE torch.Size([32, 1024, 3]) torch.Size([32, 1024, 3])\n",
            "SHAPE torch.Size([32, 1024, 3]) torch.Size([32, 1024, 3])\n",
            "[Epoch: 1, Batch:   60 /  124], loss: 1.043\n",
            "SHAPE torch.Size([32, 1024, 3]) torch.Size([32, 1024, 3])\n",
            "SHAPE torch.Size([32, 1024, 3]) torch.Size([32, 1024, 3])\n",
            "SHAPE torch.Size([32, 1024, 3]) torch.Size([32, 1024, 3])\n",
            "SHAPE torch.Size([32, 1024, 3]) torch.Size([32, 1024, 3])\n",
            "SHAPE torch.Size([32, 1024, 3]) torch.Size([32, 1024, 3])\n",
            "SHAPE torch.Size([32, 1024, 3]) torch.Size([32, 1024, 3])\n",
            "SHAPE torch.Size([32, 1024, 3]) torch.Size([32, 1024, 3])\n",
            "SHAPE torch.Size([32, 1024, 3]) torch.Size([32, 1024, 3])\n",
            "SHAPE torch.Size([32, 1024, 3]) torch.Size([32, 1024, 3])\n",
            "SHAPE torch.Size([32, 1024, 3]) torch.Size([32, 1024, 3])\n",
            "[Epoch: 1, Batch:   70 /  124], loss: 1.085\n",
            "SHAPE torch.Size([32, 1024, 3]) torch.Size([32, 1024, 3])\n",
            "SHAPE torch.Size([32, 1024, 3]) torch.Size([32, 1024, 3])\n",
            "SHAPE torch.Size([32, 1024, 3]) torch.Size([32, 1024, 3])\n",
            "SHAPE torch.Size([32, 1024, 3]) torch.Size([32, 1024, 3])\n",
            "SHAPE torch.Size([32, 1024, 3]) torch.Size([32, 1024, 3])\n",
            "SHAPE torch.Size([32, 1024, 3]) torch.Size([32, 1024, 3])\n",
            "SHAPE torch.Size([32, 1024, 3]) torch.Size([32, 1024, 3])\n",
            "SHAPE torch.Size([32, 1024, 3]) torch.Size([32, 1024, 3])\n",
            "SHAPE torch.Size([32, 1024, 3]) torch.Size([32, 1024, 3])\n",
            "SHAPE torch.Size([32, 1024, 3]) torch.Size([32, 1024, 3])\n",
            "[Epoch: 1, Batch:   80 /  124], loss: 0.925\n",
            "SHAPE torch.Size([32, 1024, 3]) torch.Size([32, 1024, 3])\n",
            "SHAPE torch.Size([32, 1024, 3]) torch.Size([32, 1024, 3])\n",
            "SHAPE torch.Size([32, 1024, 3]) torch.Size([32, 1024, 3])\n",
            "SHAPE torch.Size([32, 1024, 3]) torch.Size([32, 1024, 3])\n",
            "SHAPE torch.Size([32, 1024, 3]) torch.Size([32, 1024, 3])\n",
            "SHAPE torch.Size([32, 1024, 3]) torch.Size([32, 1024, 3])\n",
            "SHAPE torch.Size([32, 1024, 3]) torch.Size([32, 1024, 3])\n",
            "SHAPE torch.Size([32, 1024, 3]) torch.Size([32, 1024, 3])\n",
            "SHAPE torch.Size([32, 1024, 3]) torch.Size([32, 1024, 3])\n",
            "SHAPE torch.Size([32, 1024, 3]) torch.Size([32, 1024, 3])\n",
            "[Epoch: 1, Batch:   90 /  124], loss: 0.912\n",
            "SHAPE torch.Size([32, 1024, 3]) torch.Size([32, 1024, 3])\n",
            "SHAPE torch.Size([32, 1024, 3]) torch.Size([32, 1024, 3])\n",
            "SHAPE torch.Size([32, 1024, 3]) torch.Size([32, 1024, 3])\n",
            "SHAPE torch.Size([32, 1024, 3]) torch.Size([32, 1024, 3])\n",
            "SHAPE torch.Size([32, 1024, 3]) torch.Size([32, 1024, 3])\n",
            "SHAPE torch.Size([32, 1024, 3]) torch.Size([32, 1024, 3])\n",
            "SHAPE torch.Size([32, 1024, 3]) torch.Size([32, 1024, 3])\n",
            "SHAPE torch.Size([32, 1024, 3]) torch.Size([32, 1024, 3])\n",
            "SHAPE torch.Size([32, 1024, 3]) torch.Size([32, 1024, 3])\n",
            "SHAPE torch.Size([32, 1024, 3]) torch.Size([32, 1024, 3])\n",
            "[Epoch: 1, Batch:  100 /  124], loss: 0.874\n",
            "SHAPE torch.Size([32, 1024, 3]) torch.Size([32, 1024, 3])\n",
            "SHAPE torch.Size([32, 1024, 3]) torch.Size([32, 1024, 3])\n",
            "SHAPE torch.Size([32, 1024, 3]) torch.Size([32, 1024, 3])\n",
            "SHAPE torch.Size([32, 1024, 3]) torch.Size([32, 1024, 3])\n",
            "SHAPE torch.Size([32, 1024, 3]) torch.Size([32, 1024, 3])\n",
            "SHAPE torch.Size([32, 1024, 3]) torch.Size([32, 1024, 3])\n",
            "SHAPE torch.Size([32, 1024, 3]) torch.Size([32, 1024, 3])\n",
            "SHAPE torch.Size([32, 1024, 3]) torch.Size([32, 1024, 3])\n",
            "SHAPE torch.Size([32, 1024, 3]) torch.Size([32, 1024, 3])\n",
            "SHAPE torch.Size([32, 1024, 3]) torch.Size([32, 1024, 3])\n",
            "[Epoch: 1, Batch:  110 /  124], loss: 0.878\n",
            "SHAPE torch.Size([32, 1024, 3]) torch.Size([32, 1024, 3])\n",
            "SHAPE torch.Size([32, 1024, 3]) torch.Size([32, 1024, 3])\n",
            "SHAPE torch.Size([32, 1024, 3]) torch.Size([32, 1024, 3])\n",
            "SHAPE torch.Size([32, 1024, 3]) torch.Size([32, 1024, 3])\n",
            "SHAPE torch.Size([32, 1024, 3]) torch.Size([32, 1024, 3])\n",
            "SHAPE torch.Size([32, 1024, 3]) torch.Size([32, 1024, 3])\n",
            "SHAPE torch.Size([32, 1024, 3]) torch.Size([32, 1024, 3])\n",
            "SHAPE torch.Size([32, 1024, 3]) torch.Size([32, 1024, 3])\n",
            "SHAPE torch.Size([32, 1024, 3]) torch.Size([32, 1024, 3])\n",
            "SHAPE torch.Size([32, 1024, 3]) torch.Size([32, 1024, 3])\n",
            "[Epoch: 1, Batch:  120 /  124], loss: 0.859\n",
            "SHAPE torch.Size([32, 1024, 3]) torch.Size([32, 1024, 3])\n",
            "SHAPE torch.Size([32, 1024, 3]) torch.Size([32, 1024, 3])\n",
            "SHAPE torch.Size([32, 1024, 3]) torch.Size([32, 1024, 3])\n",
            "SHAPE torch.Size([32, 1024, 3]) torch.Size([32, 1024, 3])\n",
            "SHAPE torch.Size([64, 1024, 3]) torch.Size([64, 1024, 3])\n",
            "SHAPE torch.Size([64, 1024, 3]) torch.Size([64, 1024, 3])\n",
            "SHAPE torch.Size([64, 1024, 3]) torch.Size([64, 1024, 3])\n",
            "SHAPE torch.Size([64, 1024, 3]) torch.Size([64, 1024, 3])\n",
            "SHAPE torch.Size([64, 1024, 3]) torch.Size([64, 1024, 3])\n",
            "SHAPE torch.Size([64, 1024, 3]) torch.Size([64, 1024, 3])\n",
            "SHAPE torch.Size([64, 1024, 3]) torch.Size([64, 1024, 3])\n",
            "SHAPE torch.Size([64, 1024, 3]) torch.Size([64, 1024, 3])\n",
            "SHAPE torch.Size([64, 1024, 3]) torch.Size([64, 1024, 3])\n",
            "SHAPE torch.Size([64, 1024, 3]) torch.Size([64, 1024, 3])\n",
            "SHAPE torch.Size([64, 1024, 3]) torch.Size([64, 1024, 3])\n",
            "SHAPE torch.Size([64, 1024, 3]) torch.Size([64, 1024, 3])\n",
            "SHAPE torch.Size([64, 1024, 3]) torch.Size([64, 1024, 3])\n",
            "SHAPE torch.Size([64, 1024, 3]) torch.Size([64, 1024, 3])\n",
            "Valid accuracy: 65 %\n",
            "SHAPE torch.Size([32, 1024, 3]) torch.Size([32, 1024, 3])\n",
            "SHAPE torch.Size([32, 1024, 3]) torch.Size([32, 1024, 3])\n",
            "SHAPE torch.Size([32, 1024, 3]) torch.Size([32, 1024, 3])\n",
            "SHAPE torch.Size([32, 1024, 3]) torch.Size([32, 1024, 3])\n",
            "SHAPE torch.Size([32, 1024, 3]) torch.Size([32, 1024, 3])\n",
            "SHAPE torch.Size([32, 1024, 3]) torch.Size([32, 1024, 3])\n",
            "SHAPE torch.Size([32, 1024, 3]) torch.Size([32, 1024, 3])\n",
            "SHAPE torch.Size([32, 1024, 3]) torch.Size([32, 1024, 3])\n",
            "SHAPE torch.Size([32, 1024, 3]) torch.Size([32, 1024, 3])\n",
            "SHAPE torch.Size([32, 1024, 3]) torch.Size([32, 1024, 3])\n",
            "[Epoch: 2, Batch:   10 /  124], loss: 0.774\n",
            "SHAPE torch.Size([32, 1024, 3]) torch.Size([32, 1024, 3])\n",
            "SHAPE torch.Size([32, 1024, 3]) torch.Size([32, 1024, 3])\n",
            "SHAPE torch.Size([32, 1024, 3]) torch.Size([32, 1024, 3])\n",
            "SHAPE torch.Size([32, 1024, 3]) torch.Size([32, 1024, 3])\n",
            "SHAPE torch.Size([32, 1024, 3]) torch.Size([32, 1024, 3])\n",
            "SHAPE torch.Size([32, 1024, 3]) torch.Size([32, 1024, 3])\n",
            "SHAPE torch.Size([32, 1024, 3]) torch.Size([32, 1024, 3])\n",
            "SHAPE torch.Size([32, 1024, 3]) torch.Size([32, 1024, 3])\n",
            "SHAPE torch.Size([32, 1024, 3]) torch.Size([32, 1024, 3])\n",
            "SHAPE torch.Size([32, 1024, 3]) torch.Size([32, 1024, 3])\n",
            "[Epoch: 2, Batch:   20 /  124], loss: 0.838\n",
            "SHAPE torch.Size([32, 1024, 3]) torch.Size([32, 1024, 3])\n",
            "SHAPE torch.Size([32, 1024, 3]) torch.Size([32, 1024, 3])\n",
            "SHAPE torch.Size([32, 1024, 3]) torch.Size([32, 1024, 3])\n",
            "SHAPE torch.Size([32, 1024, 3]) torch.Size([32, 1024, 3])\n",
            "SHAPE torch.Size([32, 1024, 3]) torch.Size([32, 1024, 3])\n",
            "SHAPE torch.Size([32, 1024, 3]) torch.Size([32, 1024, 3])\n",
            "SHAPE torch.Size([32, 1024, 3]) torch.Size([32, 1024, 3])\n",
            "SHAPE torch.Size([32, 1024, 3]) torch.Size([32, 1024, 3])\n",
            "SHAPE torch.Size([32, 1024, 3]) torch.Size([32, 1024, 3])\n",
            "SHAPE torch.Size([32, 1024, 3]) torch.Size([32, 1024, 3])\n",
            "[Epoch: 2, Batch:   30 /  124], loss: 0.868\n",
            "SHAPE torch.Size([32, 1024, 3]) torch.Size([32, 1024, 3])\n",
            "SHAPE torch.Size([32, 1024, 3]) torch.Size([32, 1024, 3])\n",
            "SHAPE torch.Size([32, 1024, 3]) torch.Size([32, 1024, 3])\n",
            "SHAPE torch.Size([32, 1024, 3]) torch.Size([32, 1024, 3])\n",
            "SHAPE torch.Size([32, 1024, 3]) torch.Size([32, 1024, 3])\n",
            "SHAPE torch.Size([32, 1024, 3]) torch.Size([32, 1024, 3])\n",
            "SHAPE torch.Size([32, 1024, 3]) torch.Size([32, 1024, 3])\n",
            "SHAPE torch.Size([32, 1024, 3]) torch.Size([32, 1024, 3])\n",
            "SHAPE torch.Size([32, 1024, 3]) torch.Size([32, 1024, 3])\n",
            "SHAPE torch.Size([32, 1024, 3]) torch.Size([32, 1024, 3])\n",
            "[Epoch: 2, Batch:   40 /  124], loss: 0.802\n",
            "SHAPE torch.Size([32, 1024, 3]) torch.Size([32, 1024, 3])\n",
            "SHAPE torch.Size([32, 1024, 3]) torch.Size([32, 1024, 3])\n",
            "SHAPE torch.Size([32, 1024, 3]) torch.Size([32, 1024, 3])\n",
            "SHAPE torch.Size([32, 1024, 3]) torch.Size([32, 1024, 3])\n",
            "SHAPE torch.Size([32, 1024, 3]) torch.Size([32, 1024, 3])\n",
            "SHAPE torch.Size([32, 1024, 3]) torch.Size([32, 1024, 3])\n",
            "SHAPE torch.Size([32, 1024, 3]) torch.Size([32, 1024, 3])\n",
            "SHAPE torch.Size([32, 1024, 3]) torch.Size([32, 1024, 3])\n",
            "SHAPE torch.Size([32, 1024, 3]) torch.Size([32, 1024, 3])\n",
            "SHAPE torch.Size([32, 1024, 3]) torch.Size([32, 1024, 3])\n",
            "[Epoch: 2, Batch:   50 /  124], loss: 0.777\n",
            "SHAPE torch.Size([32, 1024, 3]) torch.Size([32, 1024, 3])\n",
            "SHAPE torch.Size([32, 1024, 3]) torch.Size([32, 1024, 3])\n",
            "SHAPE torch.Size([32, 1024, 3]) torch.Size([32, 1024, 3])\n",
            "SHAPE torch.Size([32, 1024, 3]) torch.Size([32, 1024, 3])\n",
            "SHAPE torch.Size([32, 1024, 3]) torch.Size([32, 1024, 3])\n",
            "SHAPE torch.Size([32, 1024, 3]) torch.Size([32, 1024, 3])\n",
            "SHAPE torch.Size([32, 1024, 3]) torch.Size([32, 1024, 3])\n",
            "SHAPE torch.Size([32, 1024, 3]) torch.Size([32, 1024, 3])\n",
            "SHAPE torch.Size([32, 1024, 3]) torch.Size([32, 1024, 3])\n",
            "SHAPE torch.Size([32, 1024, 3]) torch.Size([32, 1024, 3])\n",
            "[Epoch: 2, Batch:   60 /  124], loss: 0.646\n",
            "SHAPE torch.Size([32, 1024, 3]) torch.Size([32, 1024, 3])\n",
            "SHAPE torch.Size([32, 1024, 3]) torch.Size([32, 1024, 3])\n",
            "SHAPE torch.Size([32, 1024, 3]) torch.Size([32, 1024, 3])\n",
            "SHAPE torch.Size([32, 1024, 3]) torch.Size([32, 1024, 3])\n",
            "SHAPE torch.Size([32, 1024, 3]) torch.Size([32, 1024, 3])\n",
            "SHAPE torch.Size([32, 1024, 3]) torch.Size([32, 1024, 3])\n",
            "SHAPE torch.Size([32, 1024, 3]) torch.Size([32, 1024, 3])\n",
            "SHAPE torch.Size([32, 1024, 3]) torch.Size([32, 1024, 3])\n",
            "SHAPE torch.Size([32, 1024, 3]) torch.Size([32, 1024, 3])\n",
            "SHAPE torch.Size([32, 1024, 3]) torch.Size([32, 1024, 3])\n",
            "[Epoch: 2, Batch:   70 /  124], loss: 0.556\n",
            "SHAPE torch.Size([32, 1024, 3]) torch.Size([32, 1024, 3])\n",
            "SHAPE torch.Size([32, 1024, 3]) torch.Size([32, 1024, 3])\n",
            "SHAPE torch.Size([32, 1024, 3]) torch.Size([32, 1024, 3])\n",
            "SHAPE torch.Size([32, 1024, 3]) torch.Size([32, 1024, 3])\n",
            "SHAPE torch.Size([32, 1024, 3]) torch.Size([32, 1024, 3])\n",
            "SHAPE torch.Size([32, 1024, 3]) torch.Size([32, 1024, 3])\n",
            "SHAPE torch.Size([32, 1024, 3]) torch.Size([32, 1024, 3])\n",
            "SHAPE torch.Size([32, 1024, 3]) torch.Size([32, 1024, 3])\n",
            "SHAPE torch.Size([32, 1024, 3]) torch.Size([32, 1024, 3])\n",
            "SHAPE torch.Size([32, 1024, 3]) torch.Size([32, 1024, 3])\n",
            "[Epoch: 2, Batch:   80 /  124], loss: 0.687\n",
            "SHAPE torch.Size([32, 1024, 3]) torch.Size([32, 1024, 3])\n",
            "SHAPE torch.Size([32, 1024, 3]) torch.Size([32, 1024, 3])\n",
            "SHAPE torch.Size([32, 1024, 3]) torch.Size([32, 1024, 3])\n",
            "SHAPE torch.Size([32, 1024, 3]) torch.Size([32, 1024, 3])\n",
            "SHAPE torch.Size([32, 1024, 3]) torch.Size([32, 1024, 3])\n",
            "SHAPE torch.Size([32, 1024, 3]) torch.Size([32, 1024, 3])\n",
            "SHAPE torch.Size([32, 1024, 3]) torch.Size([32, 1024, 3])\n",
            "SHAPE torch.Size([32, 1024, 3]) torch.Size([32, 1024, 3])\n",
            "SHAPE torch.Size([32, 1024, 3]) torch.Size([32, 1024, 3])\n",
            "SHAPE torch.Size([32, 1024, 3]) torch.Size([32, 1024, 3])\n",
            "[Epoch: 2, Batch:   90 /  124], loss: 0.671\n",
            "SHAPE torch.Size([32, 1024, 3]) torch.Size([32, 1024, 3])\n",
            "SHAPE torch.Size([32, 1024, 3]) torch.Size([32, 1024, 3])\n",
            "SHAPE torch.Size([32, 1024, 3]) torch.Size([32, 1024, 3])\n",
            "SHAPE torch.Size([32, 1024, 3]) torch.Size([32, 1024, 3])\n",
            "SHAPE torch.Size([32, 1024, 3]) torch.Size([32, 1024, 3])\n",
            "SHAPE torch.Size([32, 1024, 3]) torch.Size([32, 1024, 3])\n",
            "SHAPE torch.Size([32, 1024, 3]) torch.Size([32, 1024, 3])\n",
            "SHAPE torch.Size([32, 1024, 3]) torch.Size([32, 1024, 3])\n",
            "SHAPE torch.Size([32, 1024, 3]) torch.Size([32, 1024, 3])\n",
            "SHAPE torch.Size([32, 1024, 3]) torch.Size([32, 1024, 3])\n",
            "[Epoch: 2, Batch:  100 /  124], loss: 0.643\n",
            "SHAPE torch.Size([32, 1024, 3]) torch.Size([32, 1024, 3])\n",
            "SHAPE torch.Size([32, 1024, 3]) torch.Size([32, 1024, 3])\n",
            "SHAPE torch.Size([32, 1024, 3]) torch.Size([32, 1024, 3])\n",
            "SHAPE torch.Size([32, 1024, 3]) torch.Size([32, 1024, 3])\n",
            "SHAPE torch.Size([32, 1024, 3]) torch.Size([32, 1024, 3])\n",
            "SHAPE torch.Size([32, 1024, 3]) torch.Size([32, 1024, 3])\n",
            "SHAPE torch.Size([32, 1024, 3]) torch.Size([32, 1024, 3])\n",
            "SHAPE torch.Size([32, 1024, 3]) torch.Size([32, 1024, 3])\n",
            "SHAPE torch.Size([32, 1024, 3]) torch.Size([32, 1024, 3])\n",
            "SHAPE torch.Size([32, 1024, 3]) torch.Size([32, 1024, 3])\n",
            "[Epoch: 2, Batch:  110 /  124], loss: 0.626\n",
            "SHAPE torch.Size([32, 1024, 3]) torch.Size([32, 1024, 3])\n",
            "SHAPE torch.Size([32, 1024, 3]) torch.Size([32, 1024, 3])\n",
            "SHAPE torch.Size([32, 1024, 3]) torch.Size([32, 1024, 3])\n",
            "SHAPE torch.Size([32, 1024, 3]) torch.Size([32, 1024, 3])\n",
            "SHAPE torch.Size([32, 1024, 3]) torch.Size([32, 1024, 3])\n",
            "SHAPE torch.Size([32, 1024, 3]) torch.Size([32, 1024, 3])\n",
            "SHAPE torch.Size([32, 1024, 3]) torch.Size([32, 1024, 3])\n",
            "SHAPE torch.Size([32, 1024, 3]) torch.Size([32, 1024, 3])\n",
            "SHAPE torch.Size([32, 1024, 3]) torch.Size([32, 1024, 3])\n",
            "SHAPE torch.Size([32, 1024, 3]) torch.Size([32, 1024, 3])\n",
            "[Epoch: 2, Batch:  120 /  124], loss: 0.678\n",
            "SHAPE torch.Size([32, 1024, 3]) torch.Size([32, 1024, 3])\n",
            "SHAPE torch.Size([32, 1024, 3]) torch.Size([32, 1024, 3])\n",
            "SHAPE torch.Size([32, 1024, 3]) torch.Size([32, 1024, 3])\n",
            "SHAPE torch.Size([32, 1024, 3]) torch.Size([32, 1024, 3])\n",
            "SHAPE torch.Size([64, 1024, 3]) torch.Size([64, 1024, 3])\n",
            "SHAPE torch.Size([64, 1024, 3]) torch.Size([64, 1024, 3])\n",
            "SHAPE torch.Size([64, 1024, 3]) torch.Size([64, 1024, 3])\n",
            "SHAPE torch.Size([64, 1024, 3]) torch.Size([64, 1024, 3])\n",
            "SHAPE torch.Size([64, 1024, 3]) torch.Size([64, 1024, 3])\n",
            "SHAPE torch.Size([64, 1024, 3]) torch.Size([64, 1024, 3])\n",
            "SHAPE torch.Size([64, 1024, 3]) torch.Size([64, 1024, 3])\n",
            "SHAPE torch.Size([64, 1024, 3]) torch.Size([64, 1024, 3])\n",
            "SHAPE torch.Size([64, 1024, 3]) torch.Size([64, 1024, 3])\n",
            "SHAPE torch.Size([64, 1024, 3]) torch.Size([64, 1024, 3])\n",
            "SHAPE torch.Size([64, 1024, 3]) torch.Size([64, 1024, 3])\n",
            "SHAPE torch.Size([64, 1024, 3]) torch.Size([64, 1024, 3])\n",
            "SHAPE torch.Size([64, 1024, 3]) torch.Size([64, 1024, 3])\n",
            "SHAPE torch.Size([64, 1024, 3]) torch.Size([64, 1024, 3])\n",
            "Valid accuracy: 74 %\n",
            "SHAPE torch.Size([32, 1024, 3]) torch.Size([32, 1024, 3])\n",
            "SHAPE torch.Size([32, 1024, 3]) torch.Size([32, 1024, 3])\n",
            "SHAPE torch.Size([32, 1024, 3]) torch.Size([32, 1024, 3])\n",
            "SHAPE torch.Size([32, 1024, 3]) torch.Size([32, 1024, 3])\n",
            "SHAPE torch.Size([32, 1024, 3]) torch.Size([32, 1024, 3])\n",
            "SHAPE torch.Size([32, 1024, 3]) torch.Size([32, 1024, 3])\n",
            "SHAPE torch.Size([32, 1024, 3]) torch.Size([32, 1024, 3])\n",
            "SHAPE torch.Size([32, 1024, 3]) torch.Size([32, 1024, 3])\n",
            "SHAPE torch.Size([32, 1024, 3]) torch.Size([32, 1024, 3])\n",
            "SHAPE torch.Size([32, 1024, 3]) torch.Size([32, 1024, 3])\n",
            "[Epoch: 3, Batch:   10 /  124], loss: 0.697\n",
            "SHAPE torch.Size([32, 1024, 3]) torch.Size([32, 1024, 3])\n",
            "SHAPE torch.Size([32, 1024, 3]) torch.Size([32, 1024, 3])\n",
            "SHAPE torch.Size([32, 1024, 3]) torch.Size([32, 1024, 3])\n",
            "SHAPE torch.Size([32, 1024, 3]) torch.Size([32, 1024, 3])\n",
            "SHAPE torch.Size([32, 1024, 3]) torch.Size([32, 1024, 3])\n",
            "SHAPE torch.Size([32, 1024, 3]) torch.Size([32, 1024, 3])\n",
            "SHAPE torch.Size([32, 1024, 3]) torch.Size([32, 1024, 3])\n",
            "SHAPE torch.Size([32, 1024, 3]) torch.Size([32, 1024, 3])\n",
            "SHAPE torch.Size([32, 1024, 3]) torch.Size([32, 1024, 3])\n",
            "SHAPE torch.Size([32, 1024, 3]) torch.Size([32, 1024, 3])\n",
            "[Epoch: 3, Batch:   20 /  124], loss: 0.592\n",
            "SHAPE torch.Size([32, 1024, 3]) torch.Size([32, 1024, 3])\n"
          ]
        },
        {
          "output_type": "error",
          "ename": "KeyboardInterrupt",
          "evalue": "ignored",
          "traceback": [
            "\u001b[0;31m---------------------------------------------------------------------------\u001b[0m",
            "\u001b[0;31mKeyboardInterrupt\u001b[0m                         Traceback (most recent call last)",
            "\u001b[0;32m<ipython-input-35-110db5461622>\u001b[0m in \u001b[0;36m<cell line: 1>\u001b[0;34m()\u001b[0m\n\u001b[0;32m----> 1\u001b[0;31m \u001b[0mtrain\u001b[0m\u001b[0;34m(\u001b[0m\u001b[0mpointnet2\u001b[0m\u001b[0;34m,\u001b[0m \u001b[0mtrain_loader\u001b[0m\u001b[0;34m,\u001b[0m \u001b[0mvalid_loader\u001b[0m\u001b[0;34m,\u001b[0m  \u001b[0msave\u001b[0m\u001b[0;34m=\u001b[0m\u001b[0;32mTrue\u001b[0m\u001b[0;34m)\u001b[0m\u001b[0;34m\u001b[0m\u001b[0;34m\u001b[0m\u001b[0m\n\u001b[0m",
            "\u001b[0;32m<ipython-input-34-6fdace7eddba>\u001b[0m in \u001b[0;36mtrain\u001b[0;34m(model, train_loader, val_loader, epochs, save)\u001b[0m\n\u001b[1;32m      3\u001b[0m         \u001b[0mpointnet2\u001b[0m\u001b[0;34m.\u001b[0m\u001b[0mtrain\u001b[0m\u001b[0;34m(\u001b[0m\u001b[0;34m)\u001b[0m\u001b[0;34m\u001b[0m\u001b[0;34m\u001b[0m\u001b[0m\n\u001b[1;32m      4\u001b[0m         \u001b[0mrunning_loss\u001b[0m \u001b[0;34m=\u001b[0m \u001b[0;36m0.0\u001b[0m\u001b[0;34m\u001b[0m\u001b[0;34m\u001b[0m\u001b[0m\n\u001b[0;32m----> 5\u001b[0;31m         \u001b[0;32mfor\u001b[0m \u001b[0mi\u001b[0m\u001b[0;34m,\u001b[0m \u001b[0mdata\u001b[0m \u001b[0;32min\u001b[0m \u001b[0menumerate\u001b[0m\u001b[0;34m(\u001b[0m\u001b[0mtrain_loader\u001b[0m \u001b[0;34m)\u001b[0m\u001b[0;34m:\u001b[0m\u001b[0;34m\u001b[0m\u001b[0;34m\u001b[0m\u001b[0m\n\u001b[0m\u001b[1;32m      6\u001b[0m \u001b[0;34m\u001b[0m\u001b[0m\n\u001b[1;32m      7\u001b[0m             \u001b[0mpoints\u001b[0m\u001b[0;34m,\u001b[0m \u001b[0mnormals\u001b[0m\u001b[0;34m,\u001b[0m \u001b[0mlabels\u001b[0m \u001b[0;34m=\u001b[0m \u001b[0mdata\u001b[0m\u001b[0;34m[\u001b[0m\u001b[0;34m'pointcloud'\u001b[0m\u001b[0;34m]\u001b[0m\u001b[0;34m.\u001b[0m\u001b[0mto\u001b[0m\u001b[0;34m(\u001b[0m\u001b[0mdevice\u001b[0m\u001b[0;34m)\u001b[0m\u001b[0;34m.\u001b[0m\u001b[0mfloat\u001b[0m\u001b[0;34m(\u001b[0m\u001b[0;34m)\u001b[0m\u001b[0;34m,\u001b[0m \u001b[0mdata\u001b[0m\u001b[0;34m[\u001b[0m\u001b[0;34m'normals'\u001b[0m\u001b[0;34m]\u001b[0m\u001b[0;34m.\u001b[0m\u001b[0mto\u001b[0m\u001b[0;34m(\u001b[0m\u001b[0mdevice\u001b[0m\u001b[0;34m)\u001b[0m\u001b[0;34m.\u001b[0m\u001b[0mfloat\u001b[0m\u001b[0;34m(\u001b[0m\u001b[0;34m)\u001b[0m\u001b[0;34m,\u001b[0m \u001b[0mdata\u001b[0m\u001b[0;34m[\u001b[0m\u001b[0;34m'category'\u001b[0m\u001b[0;34m]\u001b[0m\u001b[0;34m.\u001b[0m\u001b[0mto\u001b[0m\u001b[0;34m(\u001b[0m\u001b[0mdevice\u001b[0m\u001b[0;34m)\u001b[0m\u001b[0;34m\u001b[0m\u001b[0;34m\u001b[0m\u001b[0m\n",
            "\u001b[0;32m/usr/local/lib/python3.10/dist-packages/torch/utils/data/dataloader.py\u001b[0m in \u001b[0;36m__next__\u001b[0;34m(self)\u001b[0m\n\u001b[1;32m    632\u001b[0m                 \u001b[0;31m# TODO(https://github.com/pytorch/pytorch/issues/76750)\u001b[0m\u001b[0;34m\u001b[0m\u001b[0;34m\u001b[0m\u001b[0m\n\u001b[1;32m    633\u001b[0m                 \u001b[0mself\u001b[0m\u001b[0;34m.\u001b[0m\u001b[0m_reset\u001b[0m\u001b[0;34m(\u001b[0m\u001b[0;34m)\u001b[0m  \u001b[0;31m# type: ignore[call-arg]\u001b[0m\u001b[0;34m\u001b[0m\u001b[0;34m\u001b[0m\u001b[0m\n\u001b[0;32m--> 634\u001b[0;31m             \u001b[0mdata\u001b[0m \u001b[0;34m=\u001b[0m \u001b[0mself\u001b[0m\u001b[0;34m.\u001b[0m\u001b[0m_next_data\u001b[0m\u001b[0;34m(\u001b[0m\u001b[0;34m)\u001b[0m\u001b[0;34m\u001b[0m\u001b[0;34m\u001b[0m\u001b[0m\n\u001b[0m\u001b[1;32m    635\u001b[0m             \u001b[0mself\u001b[0m\u001b[0;34m.\u001b[0m\u001b[0m_num_yielded\u001b[0m \u001b[0;34m+=\u001b[0m \u001b[0;36m1\u001b[0m\u001b[0;34m\u001b[0m\u001b[0;34m\u001b[0m\u001b[0m\n\u001b[1;32m    636\u001b[0m             \u001b[0;32mif\u001b[0m \u001b[0mself\u001b[0m\u001b[0;34m.\u001b[0m\u001b[0m_dataset_kind\u001b[0m \u001b[0;34m==\u001b[0m \u001b[0m_DatasetKind\u001b[0m\u001b[0;34m.\u001b[0m\u001b[0mIterable\u001b[0m \u001b[0;32mand\u001b[0m\u001b[0;31m \u001b[0m\u001b[0;31m\\\u001b[0m\u001b[0;34m\u001b[0m\u001b[0;34m\u001b[0m\u001b[0m\n",
            "\u001b[0;32m/usr/local/lib/python3.10/dist-packages/torch/utils/data/dataloader.py\u001b[0m in \u001b[0;36m_next_data\u001b[0;34m(self)\u001b[0m\n\u001b[1;32m    676\u001b[0m     \u001b[0;32mdef\u001b[0m \u001b[0m_next_data\u001b[0m\u001b[0;34m(\u001b[0m\u001b[0mself\u001b[0m\u001b[0;34m)\u001b[0m\u001b[0;34m:\u001b[0m\u001b[0;34m\u001b[0m\u001b[0;34m\u001b[0m\u001b[0m\n\u001b[1;32m    677\u001b[0m         \u001b[0mindex\u001b[0m \u001b[0;34m=\u001b[0m \u001b[0mself\u001b[0m\u001b[0;34m.\u001b[0m\u001b[0m_next_index\u001b[0m\u001b[0;34m(\u001b[0m\u001b[0;34m)\u001b[0m  \u001b[0;31m# may raise StopIteration\u001b[0m\u001b[0;34m\u001b[0m\u001b[0;34m\u001b[0m\u001b[0m\n\u001b[0;32m--> 678\u001b[0;31m         \u001b[0mdata\u001b[0m \u001b[0;34m=\u001b[0m \u001b[0mself\u001b[0m\u001b[0;34m.\u001b[0m\u001b[0m_dataset_fetcher\u001b[0m\u001b[0;34m.\u001b[0m\u001b[0mfetch\u001b[0m\u001b[0;34m(\u001b[0m\u001b[0mindex\u001b[0m\u001b[0;34m)\u001b[0m  \u001b[0;31m# may raise StopIteration\u001b[0m\u001b[0;34m\u001b[0m\u001b[0;34m\u001b[0m\u001b[0m\n\u001b[0m\u001b[1;32m    679\u001b[0m         \u001b[0;32mif\u001b[0m \u001b[0mself\u001b[0m\u001b[0;34m.\u001b[0m\u001b[0m_pin_memory\u001b[0m\u001b[0;34m:\u001b[0m\u001b[0;34m\u001b[0m\u001b[0;34m\u001b[0m\u001b[0m\n\u001b[1;32m    680\u001b[0m             \u001b[0mdata\u001b[0m \u001b[0;34m=\u001b[0m \u001b[0m_utils\u001b[0m\u001b[0;34m.\u001b[0m\u001b[0mpin_memory\u001b[0m\u001b[0;34m.\u001b[0m\u001b[0mpin_memory\u001b[0m\u001b[0;34m(\u001b[0m\u001b[0mdata\u001b[0m\u001b[0;34m,\u001b[0m \u001b[0mself\u001b[0m\u001b[0;34m.\u001b[0m\u001b[0m_pin_memory_device\u001b[0m\u001b[0;34m)\u001b[0m\u001b[0;34m\u001b[0m\u001b[0;34m\u001b[0m\u001b[0m\n",
            "\u001b[0;32m/usr/local/lib/python3.10/dist-packages/torch/utils/data/_utils/fetch.py\u001b[0m in \u001b[0;36mfetch\u001b[0;34m(self, possibly_batched_index)\u001b[0m\n\u001b[1;32m     49\u001b[0m                 \u001b[0mdata\u001b[0m \u001b[0;34m=\u001b[0m \u001b[0mself\u001b[0m\u001b[0;34m.\u001b[0m\u001b[0mdataset\u001b[0m\u001b[0;34m.\u001b[0m\u001b[0m__getitems__\u001b[0m\u001b[0;34m(\u001b[0m\u001b[0mpossibly_batched_index\u001b[0m\u001b[0;34m)\u001b[0m\u001b[0;34m\u001b[0m\u001b[0;34m\u001b[0m\u001b[0m\n\u001b[1;32m     50\u001b[0m             \u001b[0;32melse\u001b[0m\u001b[0;34m:\u001b[0m\u001b[0;34m\u001b[0m\u001b[0;34m\u001b[0m\u001b[0m\n\u001b[0;32m---> 51\u001b[0;31m                 \u001b[0mdata\u001b[0m \u001b[0;34m=\u001b[0m \u001b[0;34m[\u001b[0m\u001b[0mself\u001b[0m\u001b[0;34m.\u001b[0m\u001b[0mdataset\u001b[0m\u001b[0;34m[\u001b[0m\u001b[0midx\u001b[0m\u001b[0;34m]\u001b[0m \u001b[0;32mfor\u001b[0m \u001b[0midx\u001b[0m \u001b[0;32min\u001b[0m \u001b[0mpossibly_batched_index\u001b[0m\u001b[0;34m]\u001b[0m\u001b[0;34m\u001b[0m\u001b[0;34m\u001b[0m\u001b[0m\n\u001b[0m\u001b[1;32m     52\u001b[0m         \u001b[0;32melse\u001b[0m\u001b[0;34m:\u001b[0m\u001b[0;34m\u001b[0m\u001b[0;34m\u001b[0m\u001b[0m\n\u001b[1;32m     53\u001b[0m             \u001b[0mdata\u001b[0m \u001b[0;34m=\u001b[0m \u001b[0mself\u001b[0m\u001b[0;34m.\u001b[0m\u001b[0mdataset\u001b[0m\u001b[0;34m[\u001b[0m\u001b[0mpossibly_batched_index\u001b[0m\u001b[0;34m]\u001b[0m\u001b[0;34m\u001b[0m\u001b[0;34m\u001b[0m\u001b[0m\n",
            "\u001b[0;32m/usr/local/lib/python3.10/dist-packages/torch/utils/data/_utils/fetch.py\u001b[0m in \u001b[0;36m<listcomp>\u001b[0;34m(.0)\u001b[0m\n\u001b[1;32m     49\u001b[0m                 \u001b[0mdata\u001b[0m \u001b[0;34m=\u001b[0m \u001b[0mself\u001b[0m\u001b[0;34m.\u001b[0m\u001b[0mdataset\u001b[0m\u001b[0;34m.\u001b[0m\u001b[0m__getitems__\u001b[0m\u001b[0;34m(\u001b[0m\u001b[0mpossibly_batched_index\u001b[0m\u001b[0;34m)\u001b[0m\u001b[0;34m\u001b[0m\u001b[0;34m\u001b[0m\u001b[0m\n\u001b[1;32m     50\u001b[0m             \u001b[0;32melse\u001b[0m\u001b[0;34m:\u001b[0m\u001b[0;34m\u001b[0m\u001b[0;34m\u001b[0m\u001b[0m\n\u001b[0;32m---> 51\u001b[0;31m                 \u001b[0mdata\u001b[0m \u001b[0;34m=\u001b[0m \u001b[0;34m[\u001b[0m\u001b[0mself\u001b[0m\u001b[0;34m.\u001b[0m\u001b[0mdataset\u001b[0m\u001b[0;34m[\u001b[0m\u001b[0midx\u001b[0m\u001b[0;34m]\u001b[0m \u001b[0;32mfor\u001b[0m \u001b[0midx\u001b[0m \u001b[0;32min\u001b[0m \u001b[0mpossibly_batched_index\u001b[0m\u001b[0;34m]\u001b[0m\u001b[0;34m\u001b[0m\u001b[0;34m\u001b[0m\u001b[0m\n\u001b[0m\u001b[1;32m     52\u001b[0m         \u001b[0;32melse\u001b[0m\u001b[0;34m:\u001b[0m\u001b[0;34m\u001b[0m\u001b[0;34m\u001b[0m\u001b[0m\n\u001b[1;32m     53\u001b[0m             \u001b[0mdata\u001b[0m \u001b[0;34m=\u001b[0m \u001b[0mself\u001b[0m\u001b[0;34m.\u001b[0m\u001b[0mdataset\u001b[0m\u001b[0;34m[\u001b[0m\u001b[0mpossibly_batched_index\u001b[0m\u001b[0;34m]\u001b[0m\u001b[0;34m\u001b[0m\u001b[0;34m\u001b[0m\u001b[0m\n",
            "\u001b[0;32m<ipython-input-19-7b56b9a59733>\u001b[0m in \u001b[0;36m__getitem__\u001b[0;34m(self, idx)\u001b[0m\n\u001b[1;32m     34\u001b[0m         \u001b[0mcategory\u001b[0m \u001b[0;34m=\u001b[0m \u001b[0mself\u001b[0m\u001b[0;34m.\u001b[0m\u001b[0mfiles\u001b[0m\u001b[0;34m[\u001b[0m\u001b[0midx\u001b[0m\u001b[0;34m]\u001b[0m\u001b[0;34m[\u001b[0m\u001b[0;34m'category'\u001b[0m\u001b[0;34m]\u001b[0m\u001b[0;34m\u001b[0m\u001b[0;34m\u001b[0m\u001b[0m\n\u001b[1;32m     35\u001b[0m \u001b[0;34m\u001b[0m\u001b[0m\n\u001b[0;32m---> 36\u001b[0;31m         \u001b[0mpointcloud\u001b[0m\u001b[0;34m,\u001b[0m\u001b[0mnormals\u001b[0m \u001b[0;34m=\u001b[0m \u001b[0mself\u001b[0m\u001b[0;34m.\u001b[0m\u001b[0m__preproc__\u001b[0m\u001b[0;34m(\u001b[0m\u001b[0mpcd_path\u001b[0m\u001b[0;34m)\u001b[0m\u001b[0;34m\u001b[0m\u001b[0;34m\u001b[0m\u001b[0m\n\u001b[0m\u001b[1;32m     37\u001b[0m \u001b[0;34m\u001b[0m\u001b[0m\n\u001b[1;32m     38\u001b[0m         return {'pointcloud': pointcloud, \n",
            "\u001b[0;32m<ipython-input-19-7b56b9a59733>\u001b[0m in \u001b[0;36m__preproc__\u001b[0;34m(self, file)\u001b[0m\n\u001b[1;32m     20\u001b[0m \u001b[0;34m\u001b[0m\u001b[0m\n\u001b[1;32m     21\u001b[0m     \u001b[0;32mdef\u001b[0m \u001b[0m__preproc__\u001b[0m\u001b[0;34m(\u001b[0m\u001b[0mself\u001b[0m\u001b[0;34m,\u001b[0m \u001b[0mfile\u001b[0m\u001b[0;34m)\u001b[0m\u001b[0;34m:\u001b[0m\u001b[0;34m\u001b[0m\u001b[0;34m\u001b[0m\u001b[0m\n\u001b[0;32m---> 22\u001b[0;31m         \u001b[0mpcd\u001b[0m \u001b[0;34m=\u001b[0m \u001b[0mtrimesh\u001b[0m\u001b[0;34m.\u001b[0m\u001b[0mload\u001b[0m\u001b[0;34m(\u001b[0m\u001b[0mfile\u001b[0m\u001b[0;34m)\u001b[0m\u001b[0;34m\u001b[0m\u001b[0;34m\u001b[0m\u001b[0m\n\u001b[0m\u001b[1;32m     23\u001b[0m \u001b[0;34m\u001b[0m\u001b[0m\n\u001b[1;32m     24\u001b[0m         \u001b[0;32mif\u001b[0m \u001b[0mself\u001b[0m\u001b[0;34m.\u001b[0m\u001b[0mtransforms\u001b[0m\u001b[0;34m:\u001b[0m\u001b[0;34m\u001b[0m\u001b[0;34m\u001b[0m\u001b[0m\n",
            "\u001b[0;32m/usr/local/lib/python3.10/dist-packages/trimesh/exchange/load.py\u001b[0m in \u001b[0;36mload\u001b[0;34m(file_obj, file_type, resolver, force, **kwargs)\u001b[0m\n\u001b[1;32m    130\u001b[0m         \u001b[0;32melif\u001b[0m \u001b[0mfile_type\u001b[0m \u001b[0;32min\u001b[0m \u001b[0mmesh_loaders\u001b[0m\u001b[0;34m:\u001b[0m\u001b[0;34m\u001b[0m\u001b[0;34m\u001b[0m\u001b[0m\n\u001b[1;32m    131\u001b[0m             \u001b[0;31m# mesh loaders use mesh loader\u001b[0m\u001b[0;34m\u001b[0m\u001b[0;34m\u001b[0m\u001b[0m\n\u001b[0;32m--> 132\u001b[0;31m             loaded = load_mesh(file_obj,\n\u001b[0m\u001b[1;32m    133\u001b[0m                                \u001b[0mfile_type\u001b[0m\u001b[0;34m=\u001b[0m\u001b[0mfile_type\u001b[0m\u001b[0;34m,\u001b[0m\u001b[0;34m\u001b[0m\u001b[0;34m\u001b[0m\u001b[0m\n\u001b[1;32m    134\u001b[0m                                \u001b[0mresolver\u001b[0m\u001b[0;34m=\u001b[0m\u001b[0mresolver\u001b[0m\u001b[0;34m,\u001b[0m\u001b[0;34m\u001b[0m\u001b[0;34m\u001b[0m\u001b[0m\n",
            "\u001b[0;32m/usr/local/lib/python3.10/dist-packages/trimesh/exchange/load.py\u001b[0m in \u001b[0;36mload_mesh\u001b[0;34m(file_obj, file_type, resolver, **kwargs)\u001b[0m\n\u001b[1;32m    213\u001b[0m         \u001b[0mloader\u001b[0m \u001b[0;34m=\u001b[0m \u001b[0mmesh_loaders\u001b[0m\u001b[0;34m[\u001b[0m\u001b[0mfile_type\u001b[0m\u001b[0;34m]\u001b[0m\u001b[0;34m\u001b[0m\u001b[0;34m\u001b[0m\u001b[0m\n\u001b[1;32m    214\u001b[0m         \u001b[0mtic\u001b[0m \u001b[0;34m=\u001b[0m \u001b[0mnow\u001b[0m\u001b[0;34m(\u001b[0m\u001b[0;34m)\u001b[0m\u001b[0;34m\u001b[0m\u001b[0;34m\u001b[0m\u001b[0m\n\u001b[0;32m--> 215\u001b[0;31m         results = loader(file_obj,\n\u001b[0m\u001b[1;32m    216\u001b[0m                          \u001b[0mfile_type\u001b[0m\u001b[0;34m=\u001b[0m\u001b[0mfile_type\u001b[0m\u001b[0;34m,\u001b[0m\u001b[0;34m\u001b[0m\u001b[0;34m\u001b[0m\u001b[0m\n\u001b[1;32m    217\u001b[0m                          \u001b[0mresolver\u001b[0m\u001b[0;34m=\u001b[0m\u001b[0mresolver\u001b[0m\u001b[0;34m,\u001b[0m\u001b[0;34m\u001b[0m\u001b[0;34m\u001b[0m\u001b[0m\n",
            "\u001b[0;32m/usr/local/lib/python3.10/dist-packages/trimesh/exchange/off.py\u001b[0m in \u001b[0;36mload_off\u001b[0;34m(file_obj, **kwargs)\u001b[0m\n\u001b[1;32m     53\u001b[0m              splits[vertex_count + 1:vertex_count + face_count + 1]]\n\u001b[1;32m     54\u001b[0m     \u001b[0;31m# the first value is count\u001b[0m\u001b[0;34m\u001b[0m\u001b[0;34m\u001b[0m\u001b[0m\n\u001b[0;32m---> 55\u001b[0;31m     \u001b[0mfaces\u001b[0m \u001b[0;34m=\u001b[0m \u001b[0;34m[\u001b[0m\u001b[0mline\u001b[0m\u001b[0;34m[\u001b[0m\u001b[0;36m1\u001b[0m\u001b[0;34m:\u001b[0m\u001b[0mint\u001b[0m\u001b[0;34m(\u001b[0m\u001b[0mline\u001b[0m\u001b[0;34m[\u001b[0m\u001b[0;36m0\u001b[0m\u001b[0;34m]\u001b[0m\u001b[0;34m)\u001b[0m \u001b[0;34m+\u001b[0m \u001b[0;36m1\u001b[0m\u001b[0;34m]\u001b[0m \u001b[0;32mfor\u001b[0m \u001b[0mline\u001b[0m \u001b[0;32min\u001b[0m \u001b[0mfaces\u001b[0m\u001b[0;34m]\u001b[0m\u001b[0;34m\u001b[0m\u001b[0;34m\u001b[0m\u001b[0m\n\u001b[0m\u001b[1;32m     56\u001b[0m \u001b[0;34m\u001b[0m\u001b[0m\n\u001b[1;32m     57\u001b[0m     \u001b[0mfaces\u001b[0m \u001b[0;34m=\u001b[0m \u001b[0mtriangulate_quads\u001b[0m\u001b[0;34m(\u001b[0m\u001b[0mfaces\u001b[0m\u001b[0;34m)\u001b[0m\u001b[0;34m\u001b[0m\u001b[0;34m\u001b[0m\u001b[0m\n",
            "\u001b[0;32m/usr/local/lib/python3.10/dist-packages/trimesh/exchange/off.py\u001b[0m in \u001b[0;36m<listcomp>\u001b[0;34m(.0)\u001b[0m\n\u001b[1;32m     53\u001b[0m              splits[vertex_count + 1:vertex_count + face_count + 1]]\n\u001b[1;32m     54\u001b[0m     \u001b[0;31m# the first value is count\u001b[0m\u001b[0;34m\u001b[0m\u001b[0;34m\u001b[0m\u001b[0m\n\u001b[0;32m---> 55\u001b[0;31m     \u001b[0mfaces\u001b[0m \u001b[0;34m=\u001b[0m \u001b[0;34m[\u001b[0m\u001b[0mline\u001b[0m\u001b[0;34m[\u001b[0m\u001b[0;36m1\u001b[0m\u001b[0;34m:\u001b[0m\u001b[0mint\u001b[0m\u001b[0;34m(\u001b[0m\u001b[0mline\u001b[0m\u001b[0;34m[\u001b[0m\u001b[0;36m0\u001b[0m\u001b[0;34m]\u001b[0m\u001b[0;34m)\u001b[0m \u001b[0;34m+\u001b[0m \u001b[0;36m1\u001b[0m\u001b[0;34m]\u001b[0m \u001b[0;32mfor\u001b[0m \u001b[0mline\u001b[0m \u001b[0;32min\u001b[0m \u001b[0mfaces\u001b[0m\u001b[0;34m]\u001b[0m\u001b[0;34m\u001b[0m\u001b[0;34m\u001b[0m\u001b[0m\n\u001b[0m\u001b[1;32m     56\u001b[0m \u001b[0;34m\u001b[0m\u001b[0m\n\u001b[1;32m     57\u001b[0m     \u001b[0mfaces\u001b[0m \u001b[0;34m=\u001b[0m \u001b[0mtriangulate_quads\u001b[0m\u001b[0;34m(\u001b[0m\u001b[0mfaces\u001b[0m\u001b[0;34m)\u001b[0m\u001b[0;34m\u001b[0m\u001b[0;34m\u001b[0m\u001b[0m\n",
            "\u001b[0;31mKeyboardInterrupt\u001b[0m: "
          ]
        }
      ],
      "source": [
        "train(pointnet2, train_loader, valid_loader,  save=True)"
      ]
    },
    {
      "cell_type": "code",
      "execution_count": 36,
      "metadata": {
        "id": "Xa1i3fOFBwfG"
      },
      "outputs": [],
      "source": [
        "from sklearn.metrics import confusion_matrix"
      ]
    },
    {
      "cell_type": "code",
      "source": [
        "!gdown --id 1VPY_-O9AAxD6BERx1ucQyQ8UJ3nmvvZf"
      ],
      "metadata": {
        "colab": {
          "base_uri": "https://localhost:8080/"
        },
        "id": "-n8PmOETrJl9",
        "outputId": "52d50be2-61f7-4719-f12f-d9b34965e213"
      },
      "execution_count": 37,
      "outputs": [
        {
          "output_type": "stream",
          "name": "stdout",
          "text": [
            "/usr/local/lib/python3.10/dist-packages/gdown/cli.py:121: FutureWarning: Option `--id` was deprecated in version 4.3.1 and will be removed in 5.0. You don't need to pass it anymore to use a file ID.\n",
            "  warnings.warn(\n",
            "Downloading...\n",
            "From: https://drive.google.com/uc?id=1VPY_-O9AAxD6BERx1ucQyQ8UJ3nmvvZf\n",
            "To: /content/Pointnet++/pointnet2_cls.pth\n",
            "100% 5.91M/5.91M [00:00<00:00, 26.1MB/s]\n"
          ]
        }
      ]
    },
    {
      "cell_type": "code",
      "execution_count": 38,
      "metadata": {
        "id": "D70K3B_t0dvk"
      },
      "outputs": [],
      "source": [
        "in_channels = 6\n",
        "pointnet2 = pointnet2_cls_ssg(in_channels, NUM_CLASSES)\n",
        "pointnet2.load_state_dict(torch.load('pointnet2_cls.pth',map_location=torch.device('cpu')))\n",
        "pointnet2.eval();"
      ]
    },
    {
      "cell_type": "code",
      "execution_count": 39,
      "metadata": {
        "id": "XgRpIiNk0hCC",
        "colab": {
          "base_uri": "https://localhost:8080/"
        },
        "outputId": "14901579-b960-43ea-cd97-a4a3c5ba1b30"
      },
      "outputs": [
        {
          "output_type": "stream",
          "name": "stdout",
          "text": [
            "Batch [   1 /   14]\n",
            "SHAPE torch.Size([64, 1024, 3]) torch.Size([64, 1024, 3])\n",
            "Batch [   2 /   14]\n",
            "SHAPE torch.Size([64, 1024, 3]) torch.Size([64, 1024, 3])\n",
            "Batch [   3 /   14]\n",
            "SHAPE torch.Size([64, 1024, 3]) torch.Size([64, 1024, 3])\n",
            "Batch [   4 /   14]\n",
            "SHAPE torch.Size([64, 1024, 3]) torch.Size([64, 1024, 3])\n",
            "Batch [   5 /   14]\n",
            "SHAPE torch.Size([64, 1024, 3]) torch.Size([64, 1024, 3])\n",
            "Batch [   6 /   14]\n",
            "SHAPE torch.Size([64, 1024, 3]) torch.Size([64, 1024, 3])\n",
            "Batch [   7 /   14]\n",
            "SHAPE torch.Size([64, 1024, 3]) torch.Size([64, 1024, 3])\n",
            "Batch [   8 /   14]\n",
            "SHAPE torch.Size([64, 1024, 3]) torch.Size([64, 1024, 3])\n",
            "Batch [   9 /   14]\n",
            "SHAPE torch.Size([64, 1024, 3]) torch.Size([64, 1024, 3])\n",
            "Batch [  10 /   14]\n",
            "SHAPE torch.Size([64, 1024, 3]) torch.Size([64, 1024, 3])\n",
            "Batch [  11 /   14]\n",
            "SHAPE torch.Size([64, 1024, 3]) torch.Size([64, 1024, 3])\n",
            "Batch [  12 /   14]\n",
            "SHAPE torch.Size([64, 1024, 3]) torch.Size([64, 1024, 3])\n",
            "Batch [  13 /   14]\n",
            "SHAPE torch.Size([64, 1024, 3]) torch.Size([64, 1024, 3])\n",
            "Batch [  14 /   14]\n",
            "SHAPE torch.Size([64, 1024, 3]) torch.Size([64, 1024, 3])\n"
          ]
        }
      ],
      "source": [
        "all_preds = []\n",
        "all_labels = []\n",
        "with torch.no_grad():\n",
        "    for i, data in enumerate(valid_loader):\n",
        "        print('Batch [%4d / %4d]' % (i+1, len(valid_loader)))\n",
        "                   \n",
        "        points, normals, labels = data['pointcloud'].float(), data['normals'].float(), data['category'] \n",
        "        outputs =  pointnet2(points, normals)\n",
        "        _, preds = torch.max(outputs , 1)\n",
        "\n",
        "        all_preds += list(preds.numpy())\n",
        "        all_labels += list(labels.numpy())\n",
        "        \n"
      ]
    },
    {
      "cell_type": "code",
      "execution_count": 40,
      "metadata": {
        "id": "bhabxMfN0kaT",
        "colab": {
          "base_uri": "https://localhost:8080/"
        },
        "outputId": "6368ba06-bd42-4eff-e435-226234f83d8c"
      },
      "outputs": [
        {
          "output_type": "execute_result",
          "data": {
            "text/plain": [
              "array([[46,  0,  0,  0,  0,  0,  0,  2,  2,  0],\n",
              "       [ 0, 84,  1,  0,  0,  0,  0, 14,  1,  0],\n",
              "       [ 0,  0, 96,  0,  0,  3,  0,  1,  0,  0],\n",
              "       [ 1,  1,  1, 56,  0,  0,  1,  4, 21,  1],\n",
              "       [ 1,  1,  0,  1, 68,  0, 12,  0,  1,  2],\n",
              "       [ 0,  0,  0,  0,  2, 93,  3,  0,  0,  2],\n",
              "       [ 0,  0,  1,  1, 23,  0, 49,  0, 12,  0],\n",
              "       [ 0,  2,  1,  0,  0,  2,  1, 94,  0,  0],\n",
              "       [ 0,  1,  0,  0,  0,  0,  0,  0, 99,  0],\n",
              "       [ 0,  0,  0,  0,  0,  0,  0,  0,  0, 88]])"
            ]
          },
          "metadata": {},
          "execution_count": 40
        }
      ],
      "source": [
        "cm = confusion_matrix(all_labels, all_preds);\n",
        "cm"
      ]
    },
    {
      "cell_type": "code",
      "execution_count": 41,
      "metadata": {
        "id": "mpw64T-Z0mpd"
      },
      "outputs": [],
      "source": [
        "import itertools\n",
        "import numpy as np\n",
        "import matplotlib.pyplot as plt\n",
        "\n",
        "# function from https://deeplizard.com/learn/video/0LhiS6yu2qQ\n",
        "def plot_confusion_matrix(cm, classes, normalize=False, title='Confusion matrix', cmap=plt.cm.Blues):\n",
        "    if normalize:\n",
        "        cm = cm.astype('float') / cm.sum(axis=1)[:, np.newaxis]\n",
        "        print(\"Normalized confusion matrix\")\n",
        "    else:\n",
        "        print('Confusion matrix, without normalization')\n",
        "\n",
        "    plt.imshow(cm, interpolation='nearest', cmap=cmap)\n",
        "    plt.title(title)\n",
        "    plt.colorbar()\n",
        "    tick_marks = np.arange(len(classes))\n",
        "    plt.xticks(tick_marks, classes, rotation=45)\n",
        "    plt.yticks(tick_marks, classes)\n",
        "\n",
        "    fmt = '.2f' if normalize else 'd'\n",
        "    thresh = cm.max() / 2.\n",
        "    for i, j in itertools.product(range(cm.shape[0]), range(cm.shape[1])):\n",
        "        plt.text(j, i, format(cm[i, j], fmt), horizontalalignment=\"center\", color=\"white\" if cm[i, j] > thresh else \"black\")\n",
        "\n",
        "    plt.tight_layout()\n",
        "    plt.ylabel('True label')\n",
        "    plt.xlabel('Predicted label')"
      ]
    },
    {
      "cell_type": "code",
      "execution_count": 42,
      "metadata": {
        "id": "bO9uDzbe0oI1",
        "colab": {
          "base_uri": "https://localhost:8080/",
          "height": 815
        },
        "outputId": "c5046815-3ead-420c-a81b-0c57d5a06ac8"
      },
      "outputs": [
        {
          "output_type": "stream",
          "name": "stdout",
          "text": [
            "Normalized confusion matrix\n"
          ]
        },
        {
          "output_type": "display_data",
          "data": {
            "text/plain": [
              "<Figure size 800x800 with 2 Axes>"
            ],
            "image/png": "[encoded data removed]"
          },
          "metadata": {}
        }
      ],
      "source": [
        "plt.figure(figsize=(8,8))\n",
        "plot_confusion_matrix(cm, list(classes.keys()), normalize=True)"
      ]
    },
    {
      "cell_type": "code",
      "execution_count": 43,
      "metadata": {
        "id": "dh-YAR2H0ps9",
        "colab": {
          "base_uri": "https://localhost:8080/",
          "height": 815
        },
        "outputId": "6c9f5b49-b4db-4567-936c-32b941760679"
      },
      "outputs": [
        {
          "output_type": "stream",
          "name": "stdout",
          "text": [
            "Confusion matrix, without normalization\n"
          ]
        },
        {
          "output_type": "display_data",
          "data": {
            "text/plain": [
              "<Figure size 800x800 with 2 Axes>"
            ],
            "image/png": "[encoded data removed]"
          },
          "metadata": {}
        }
      ],
      "source": [
        "plt.figure(figsize=(8,8))\n",
        "plot_confusion_matrix(cm, list(classes.keys()), normalize=False)"
      ]
    },
    {
      "cell_type": "code",
      "source": [],
      "metadata": {
        "id": "ASk86_BJr6tI"
      },
      "execution_count": null,
      "outputs": []
    }
  ],
  "metadata": {
    "accelerator": "GPU",
    "colab": {
      "provenance": [],
      "gpuType": "T4",
      "include_colab_link": true
    },
    "kernelspec": {
      "display_name": "Python 3",
      "name": "python3"
    },
    "language_info": {
      "name": "python"
    },
    "gpuClass": "standard"
  },
  "nbformat": 4,
  "nbformat_minor": 0
}